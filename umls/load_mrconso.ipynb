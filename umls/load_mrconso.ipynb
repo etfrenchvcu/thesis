{
 "cells": [
  {
   "cell_type": "markdown",
   "metadata": {},
   "source": [
    "# Script for loading N2C2 Terminology file\n",
    "## All records must be:\n",
    "- From SNOMED-CT or RxNorm\n",
    "- Have a semantic type used by at least one CUI in the N2C2 training data\n",
    "- Be English language\n",
    "- Be not suppressible (MRCONSO.SUPPRESS!='E')"
   ]
  },
  {
   "cell_type": "code",
   "execution_count": 2,
   "metadata": {},
   "outputs": [],
   "source": [
    "import collections\n",
    "import os\n",
    "import pandas as pd\n",
    "import pyarrow.feather as feather\n",
    "import re\n",
    "\n",
    "raw_path = 'raw'\n",
    "processed_path = 'processed'"
   ]
  },
  {
   "cell_type": "markdown",
   "metadata": {},
   "source": [
    "## Load MRSTY.RRF \n",
    "UMLS semantic type mapping file"
   ]
  },
  {
   "cell_type": "code",
   "execution_count": 170,
   "metadata": {},
   "outputs": [
    {
     "data": {
      "text/html": [
       "<div>\n",
       "<style scoped>\n",
       "    .dataframe tbody tr th:only-of-type {\n",
       "        vertical-align: middle;\n",
       "    }\n",
       "\n",
       "    .dataframe tbody tr th {\n",
       "        vertical-align: top;\n",
       "    }\n",
       "\n",
       "    .dataframe thead th {\n",
       "        text-align: right;\n",
       "    }\n",
       "</style>\n",
       "<table border=\"1\" class=\"dataframe\">\n",
       "  <thead>\n",
       "    <tr style=\"text-align: right;\">\n",
       "      <th></th>\n",
       "      <th>TUI</th>\n",
       "      <th>CUI</th>\n",
       "      <th>STY</th>\n",
       "    </tr>\n",
       "  </thead>\n",
       "  <tbody>\n",
       "    <tr>\n",
       "      <th>0</th>\n",
       "      <td>T116</td>\n",
       "      <td>C0000005</td>\n",
       "      <td>Amino Acid, Peptide, or Protein</td>\n",
       "    </tr>\n",
       "  </tbody>\n",
       "</table>\n",
       "</div>"
      ],
      "text/plain": [
       "    TUI       CUI                              STY\n",
       "0  T116  C0000005  Amino Acid, Peptide, or Protein"
      ]
     },
     "execution_count": 170,
     "metadata": {},
     "output_type": "execute_result"
    }
   ],
   "source": [
    "# Load MRSTY from source\n",
    "file = f'{raw_path}/MRSTY.RRF'\n",
    "cols = ['CUI','TUI','STN','STY','ATUI','CVF','BLANK']\n",
    "mrsty = pd.read_table(f'{raw_path}/MRSTY.RRF',sep='|',header=None,names=cols)\n",
    "mrsty = mrsty[['TUI','CUI','STY']]\n",
    "mrsty.reset_index(drop=True).to_feather(f'{processed_path}/mrsty.feather')\n",
    "mrsty.head(1)"
   ]
  },
  {
   "cell_type": "markdown",
   "metadata": {},
   "source": [
    "## Load MRCONSO.RRF \n",
    "UMLS metathesaurus file"
   ]
  },
  {
   "cell_type": "code",
   "execution_count": 3,
   "metadata": {},
   "outputs": [
    {
     "name": "stderr",
     "output_type": "stream",
     "text": [
      "C:\\Users\\etfrench\\AppData\\Local\\Temp\\ipykernel_21704\\2446371264.py:3: DtypeWarning: Columns (9,10) have mixed types. Specify dtype option on import or set low_memory=False.\n",
      "  mrconso = pd.read_table(f'{raw_path}/MRCONSO.RRF',sep='|',header=None,names=cols)\n"
     ]
    },
    {
     "data": {
      "text/html": [
       "<div>\n",
       "<style scoped>\n",
       "    .dataframe tbody tr th:only-of-type {\n",
       "        vertical-align: middle;\n",
       "    }\n",
       "\n",
       "    .dataframe tbody tr th {\n",
       "        vertical-align: top;\n",
       "    }\n",
       "\n",
       "    .dataframe thead th {\n",
       "        text-align: right;\n",
       "    }\n",
       "</style>\n",
       "<table border=\"1\" class=\"dataframe\">\n",
       "  <thead>\n",
       "    <tr style=\"text-align: right;\">\n",
       "      <th></th>\n",
       "      <th>CUI</th>\n",
       "      <th>STR</th>\n",
       "      <th>ISPREF</th>\n",
       "    </tr>\n",
       "  </thead>\n",
       "  <tbody>\n",
       "    <tr>\n",
       "      <th>9</th>\n",
       "      <td>C0000039</td>\n",
       "      <td>1,2-dipalmitoylphosphatidylcholine</td>\n",
       "      <td>N</td>\n",
       "    </tr>\n",
       "  </tbody>\n",
       "</table>\n",
       "</div>"
      ],
      "text/plain": [
       "        CUI                                 STR ISPREF\n",
       "9  C0000039  1,2-dipalmitoylphosphatidylcholine      N"
      ]
     },
     "execution_count": 3,
     "metadata": {},
     "output_type": "execute_result"
    }
   ],
   "source": [
    "# Load MRCONSO from source (Only needs to be done once)\n",
    "cols = ['CUI','LAT','TS','LUI','STT','SUI','ISPREF','AUI','SAUI','SCUI','SDUI','SAB','TTY','CODE','STR','SRL','SUPPRESS','CVF','BLANK']\n",
    "mrconso = pd.read_table(f'{raw_path}/MRCONSO.RRF',sep='|',header=None,names=cols)\n",
    "mrconso = mrconso.drop(columns=['BLANK'])\n",
    "umls = mrconso[mrconso.LAT=='ENG']\n",
    "umls = umls[(umls.SAB=='RXNORM') | (umls.SAB=='SNOMEDCT_US')]\n",
    "umls = umls[umls.SUPPRESS!='E'] # Seems like there are obsolete CUIs in the annotations...\n",
    "umls = umls[['CUI','STR','ISPREF']]\n",
    "umls.reset_index(drop=True).to_feather(f'{processed_path}/mrconso.feather')\n",
    "umls.head(1)"
   ]
  },
  {
   "cell_type": "markdown",
   "metadata": {},
   "source": [
    "## Load MRREL.RRF \n",
    "One-time load UMLS CUI relationship mapping file"
   ]
  },
  {
   "cell_type": "code",
   "execution_count": 172,
   "metadata": {},
   "outputs": [
    {
     "name": "stderr",
     "output_type": "stream",
     "text": [
      "C:\\Users\\etfrench\\AppData\\Local\\Temp\\ipykernel_5360\\2793450661.py:4: DtypeWarning: Columns (7) have mixed types. Specify dtype option on import or set low_memory=False.\n",
      "  mrrel = pd.read_table(f'{raw_path}/MRREL.RRF',sep='|',header=None, names=names, usecols=usecols)\n"
     ]
    },
    {
     "name": "stdout",
     "output_type": "stream",
     "text": [
      "2,122,638 raw relations\n"
     ]
    },
    {
     "data": {
      "text/html": [
       "<div>\n",
       "<style scoped>\n",
       "    .dataframe tbody tr th:only-of-type {\n",
       "        vertical-align: middle;\n",
       "    }\n",
       "\n",
       "    .dataframe tbody tr th {\n",
       "        vertical-align: top;\n",
       "    }\n",
       "\n",
       "    .dataframe thead th {\n",
       "        text-align: right;\n",
       "    }\n",
       "</style>\n",
       "<table border=\"1\" class=\"dataframe\">\n",
       "  <thead>\n",
       "    <tr style=\"text-align: right;\">\n",
       "      <th></th>\n",
       "      <th>CUI1</th>\n",
       "      <th>CUI2</th>\n",
       "      <th>REL</th>\n",
       "    </tr>\n",
       "  </thead>\n",
       "  <tbody>\n",
       "    <tr>\n",
       "      <th>80</th>\n",
       "      <td>C0000039</td>\n",
       "      <td>C0031610</td>\n",
       "      <td>PAR</td>\n",
       "    </tr>\n",
       "  </tbody>\n",
       "</table>\n",
       "</div>"
      ],
      "text/plain": [
       "        CUI1      CUI2  REL\n",
       "80  C0000039  C0031610  PAR"
      ]
     },
     "execution_count": 172,
     "metadata": {},
     "output_type": "execute_result"
    }
   ],
   "source": [
    "# Load raw MRREL from source, filter and save (Only needs to be done once)\n",
    "names = ['CUI1','AUI1','STYPE1','REL','CUI2','AUI2','STYPE2','RELA','RUI','SRUI','SAB','SL','RG','DIR','SUPPRESS','CVF','BLANK']\n",
    "usecols = ['CUI1','REL','CUI2','RELA','SAB','SL']\n",
    "mrrel = pd.read_table(f'{raw_path}/MRREL.RRF',sep='|',header=None, names=names, usecols=usecols)\n",
    "mrrel = mrrel[mrrel.SAB.isin(['SNOMEDCT_US','RXNORM'])]\n",
    "mrrel = mrrel[mrrel.REL.isin(['PAR','CHD'])][['CUI1','CUI2','REL']]\n",
    "mrrel = mrrel[mrrel.CUI1!=mrrel.CUI2]\n",
    "mrrel.reset_index(drop=True).to_feather(f'{processed_path}/mrrel.feather')\n",
    "\n",
    "mrrel_cnt = '{:,}'.format(len(mrrel))\n",
    "print(f'{mrrel_cnt} raw relations')\n",
    "mrrel.head(1)"
   ]
  },
  {
   "cell_type": "markdown",
   "metadata": {},
   "source": [
    "## Curate list of semantic types appearing in training data\n",
    "We will use these to filter UMLS data"
   ]
  },
  {
   "cell_type": "code",
   "execution_count": 173,
   "metadata": {},
   "outputs": [
    {
     "name": "stderr",
     "output_type": "stream",
     "text": [
      "C:\\Users\\etfrench\\AppData\\Local\\Temp\\ipykernel_5360\\756749720.py:4: ParserWarning: Falling back to the 'python' engine because the 'c' engine does not support regex separators (separators > 1 char and different from '\\s+' are interpreted as regex); you can avoid this warning by specifying engine='python'.\n",
      "  train = pd.read_table(train_path,sep='\\|\\|',header=None, names=['file_id','ix','type','name','CUI'])\n"
     ]
    },
    {
     "data": {
      "text/html": [
       "<div>\n",
       "<style scoped>\n",
       "    .dataframe tbody tr th:only-of-type {\n",
       "        vertical-align: middle;\n",
       "    }\n",
       "\n",
       "    .dataframe tbody tr th {\n",
       "        vertical-align: top;\n",
       "    }\n",
       "\n",
       "    .dataframe thead th {\n",
       "        text-align: right;\n",
       "    }\n",
       "</style>\n",
       "<table border=\"1\" class=\"dataframe\">\n",
       "  <thead>\n",
       "    <tr style=\"text-align: right;\">\n",
       "      <th></th>\n",
       "      <th>CUI</th>\n",
       "      <th>name</th>\n",
       "      <th>file</th>\n",
       "      <th>TUI</th>\n",
       "      <th>STY</th>\n",
       "    </tr>\n",
       "  </thead>\n",
       "  <tbody>\n",
       "    <tr>\n",
       "      <th>0</th>\n",
       "      <td>C0011854</td>\n",
       "      <td>insulin dependent diabetes mellitus</td>\n",
       "      <td>0</td>\n",
       "      <td>T047</td>\n",
       "      <td>Disease or Syndrome</td>\n",
       "    </tr>\n",
       "  </tbody>\n",
       "</table>\n",
       "</div>"
      ],
      "text/plain": [
       "        CUI                                 name file   TUI  \\\n",
       "0  C0011854  insulin dependent diabetes mellitus    0  T047   \n",
       "\n",
       "                   STY  \n",
       "0  Disease or Syndrome  "
      ]
     },
     "execution_count": 173,
     "metadata": {},
     "output_type": "execute_result"
    }
   ],
   "source": [
    "#Load a dataset of all training annotations\n",
    "train_path = '../datasets/n2c2/preprocessed/n2c2_traindev.concept'\n",
    "train = pd.DataFrame([])\n",
    "train = pd.read_table(train_path,sep='\\|\\|',header=None, names=['file_id','ix','type','name','CUI'])\n",
    "train['file'] = '0'\n",
    "train = train[['CUI','name','file']]\n",
    "train = pd.merge(train, mrsty, on='CUI')[['CUI','name','file','TUI','STY']]\n",
    "train.head(1)"
   ]
  },
  {
   "cell_type": "code",
   "execution_count": 189,
   "metadata": {},
   "outputs": [],
   "source": [
    "# Code to derive N2C2_TUI\n",
    "# Get distinct TUI list in train order by # of CUIs in UMLS\n",
    "tuis = pd.merge(mrsty, pd.DataFrame(train.TUI.unique(), columns=['TUI']), on='TUI')\n",
    "tuis = tuis \\\n",
    "    .groupby('TUI').count()['CUI'] \\\n",
    "    .reset_index(name='count') \\\n",
    "    .sort_values(['count'], ascending=False) \\\n",
    "    .TUI.tolist()\n",
    "\n",
    "# Distinct CUIs when filtering to TUI list\n",
    "expected = len(set(train[train.TUI.isin(tuis)].CUI))\n",
    "removed = []\n",
    "\n",
    "for tui in tuis:\n",
    "    # Try removing records with given TUI\n",
    "    subset = train[(train.TUI.isin(tuis)) & (train.TUI != tui)]\n",
    "    \n",
    "    # If removing the TUI didn't drop unique CUIs, remove it permanently\n",
    "    if expected == len(set(subset.CUI)):\n",
    "        tuis.remove(tui)\n",
    "        \n",
    "n2c2_tui = train[(train.TUI.isin(tuis))] \\\n",
    "    .groupby('TUI').count()['CUI'] \\\n",
    "    .reset_index(name='count') \\\n",
    "    .sort_values(['count'], ascending=False)"
   ]
  },
  {
   "cell_type": "markdown",
   "metadata": {},
   "source": [
    "## Generate n2c2_terminology.txt"
   ]
  },
  {
   "cell_type": "code",
   "execution_count": 164,
   "metadata": {},
   "outputs": [
    {
     "name": "stderr",
     "output_type": "stream",
     "text": [
      "C:\\Users\\etfrench\\AppData\\Local\\Temp\\ipykernel_5360\\2236879953.py:2: SettingWithCopyWarning: \n",
      "A value is trying to be set on a copy of a slice from a DataFrame.\n",
      "Try using .loc[row_indexer,col_indexer] = value instead\n",
      "\n",
      "See the caveats in the documentation: https://pandas.pydata.org/pandas-docs/stable/user_guide/indexing.html#returning-a-view-versus-a-copy\n",
      "  umls_term.STR = [x.lower().strip() for x in umls_term.STR]\n",
      "C:\\Users\\etfrench\\AppData\\Local\\Temp\\ipykernel_5360\\2236879953.py:15: FutureWarning: The default value of regex will change from True to False in a future version.\n",
      "  umls_term.STR = umls_term.STR.str.replace('|'.join(qualifiers), '')\n",
      "C:\\Users\\etfrench\\AppData\\Local\\Temp\\ipykernel_5360\\2236879953.py:22: FutureWarning: The default value of regex will change from True to False in a future version.\n",
      "  umls_term.STR = umls_term.STR.str.replace('|'.join(qualifiers), '')\n"
     ]
    },
    {
     "name": "stdout",
     "output_type": "stream",
     "text": [
      "Unique CUIs: 548578\n",
      "Unique names: 984442\n"
     ]
    }
   ],
   "source": [
    "umls_term = umls[umls.STR.notnull()]\n",
    "umls_term.STR = [x.lower().strip() for x in umls_term.STR]\n",
    "\n",
    "# Filter by TUIs in N2C2 train\n",
    "umls_term = umls_term[['CUI','STR']]\n",
    "umls_term = pd.merge(umls_term, mrsty[['CUI','TUI']], on='CUI')\n",
    "umls_term = pd.merge(umls_term, n2c2_tui[['TUI']], on='TUI')\n",
    "umls_term = umls_term[['CUI','STR']]\n",
    "\n",
    "# Remove () qualifiers of the form \"acetylcysteine (substance)\" with >1000 instances\n",
    "series = umls_term[umls_term.STR.str.contains('\\(')].STR\n",
    "qualifiers = series.str.extract('(\\([^)]*\\))').groupby(0) \\\n",
    "    .filter(lambda x : len(x)>1000)[0].unique().tolist()\n",
    "qualifiers = [q.replace('(','\\(').replace(')','\\)') for q in qualifiers]\n",
    "umls_term.STR = umls_term.STR.str.replace('|'.join(qualifiers), '')\n",
    "\n",
    "# Remove [] qualifiers of the form \"[d]spots\"\n",
    "series = umls_term[umls_term.STR.str.contains('\\[[a-z]\\]')].STR\n",
    "qualifiers = series.str.extract('(\\[[a-z]\\])').groupby(0) \\\n",
    "    .filter(lambda x : len(x)>1)[0].unique().tolist()\n",
    "qualifiers = [q.replace('[','\\[').replace(']','\\]') for q in qualifiers]\n",
    "umls_term.STR = umls_term.STR.str.replace('|'.join(qualifiers), '')\n",
    "\n",
    "# Remove extra whitespace\n",
    "umls_term.STR = [re.sub(r'\\s+',' ',x) for x in umls_term.STR]\n",
    "umls_term.STR = [x.lower().strip() for x in umls_term.STR]\n",
    "umls_term = umls_term.drop_duplicates()\n",
    "umls_term = umls_term[umls_term.STR!='']\n",
    "\n",
    "print('Unique CUIs:', len(set(umls_term.CUI)))\n",
    "print('Unique names:', len(set(umls_term.STR)))"
   ]
  },
  {
   "cell_type": "code",
   "execution_count": 200,
   "metadata": {},
   "outputs": [],
   "source": [
    "# Write mrconso_dictionary.txt\n",
    "with open('../datasets/n2c2/mrconso_dictionary.txt', 'w+') as f:\n",
    "    for x in umls_term.iterrows():\n",
    "        try:\n",
    "            f.write(f'{x[1].CUI}||{x[1].STR}\\n')\n",
    "        except:\n",
    "            print(f'{x[1].CUI}||{x[1].STR}')"
   ]
  },
  {
   "cell_type": "code",
   "execution_count": 201,
   "metadata": {},
   "outputs": [
    {
     "name": "stderr",
     "output_type": "stream",
     "text": [
      "C:\\Users\\etfrench\\AppData\\Local\\Temp\\ipykernel_5360\\89833707.py:4: ParserWarning: Falling back to the 'python' engine because the 'c' engine does not support regex separators (separators > 1 char and different from '\\s+' are interpreted as regex); you can avoid this warning by specifying engine='python'.\n",
      "  cuis = pd.read_table(f'../datasets/n2c2/preprocessed/n2c2_{s}.concept', sep='\\|\\|',header=None)[4].unique()\n",
      "C:\\Users\\etfrench\\AppData\\Local\\Temp\\ipykernel_5360\\89833707.py:4: ParserWarning: Falling back to the 'python' engine because the 'c' engine does not support regex separators (separators > 1 char and different from '\\s+' are interpreted as regex); you can avoid this warning by specifying engine='python'.\n",
      "  cuis = pd.read_table(f'../datasets/n2c2/preprocessed/n2c2_{s}.concept', sep='\\|\\|',header=None)[4].unique()\n",
      "C:\\Users\\etfrench\\AppData\\Local\\Temp\\ipykernel_5360\\89833707.py:4: ParserWarning: Falling back to the 'python' engine because the 'c' engine does not support regex separators (separators > 1 char and different from '\\s+' are interpreted as regex); you can avoid this warning by specifying engine='python'.\n",
      "  cuis = pd.read_table(f'../datasets/n2c2/preprocessed/n2c2_{s}.concept', sep='\\|\\|',header=None)[4].unique()\n"
     ]
    },
    {
     "name": "stdout",
     "output_type": "stream",
     "text": [
      "2331\n",
      "CUIs missing from dictionary:  17\n"
     ]
    }
   ],
   "source": [
    "import numpy as np\n",
    "n2c2_cuis = np.array([])\n",
    "for s in ['dev','train','test']:\n",
    "    cuis = pd.read_table(f'../datasets/n2c2/preprocessed/n2c2_{s}.concept', sep='\\|\\|',header=None)[4].unique()\n",
    "    n2c2_cuis = np.append(n2c2_cuis,cuis)\n",
    "n2c2_cuis = pd.DataFrame(set(n2c2_cuis), columns=['CUI'])\n",
    "print(len(n2c2_cuis))\n",
    "n2c2_cuis = pd.merge(n2c2_cuis, umls_term, on='CUI', how=\"left\")\n",
    "not_in_dict = n2c2_cuis[n2c2_cuis.STR.isnull()]\n",
    "print('CUIs missing from dictionary: ', len(not_in_dict))"
   ]
  }
 ],
 "metadata": {
  "kernelspec": {
   "display_name": "Python 3",
   "language": "python",
   "name": "python3"
  },
  "language_info": {
   "codemirror_mode": {
    "name": "ipython",
    "version": 3
   },
   "file_extension": ".py",
   "mimetype": "text/x-python",
   "name": "python",
   "nbconvert_exporter": "python",
   "pygments_lexer": "ipython3",
   "version": "3.8.13"
  }
 },
 "nbformat": 4,
 "nbformat_minor": 4
}
