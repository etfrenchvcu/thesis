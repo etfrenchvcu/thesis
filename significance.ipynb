{
 "cells": [
  {
   "cell_type": "code",
   "execution_count": 34,
   "metadata": {},
   "outputs": [],
   "source": [
    "import glob\n",
    "import json\n",
    "import numpy as np\n",
    "import random\n",
    "from src.umls import Umls\n",
    "umls = Umls('umls/processed')"
   ]
  },
  {
   "cell_type": "code",
   "execution_count": 20,
   "metadata": {},
   "outputs": [],
   "source": [
    "def get_results(file):\n",
    "    \"Gets acc1, acc5, similarity results for each prediction in the file\"\n",
    "    with open(file) as f:\n",
    "        results = json.load(f)['result']\n",
    "\n",
    "    similarity = []\n",
    "    for mention in results:\n",
    "        gold_cui = mention['golden_cui']\n",
    "        pred = mention['candidates'][0]['cui']\n",
    "        similarity.append(umls.similarity(gold_cui,pred))\n",
    "\n",
    "    acc1 = [r['candidates'][0]['label'] for r in results]\n",
    "    acc5 = [max([c['label'] for c in r['candidates'][:5]]) for r in results]\n",
    "    return acc1, acc5, similarity\n",
    "\n",
    "def get_cuis(file):\n",
    "    \"Gets pred and gold cuis from file\"\n",
    "    with open(file) as f:\n",
    "        results = json.load(f)['result']\n",
    "    gold = [m['golden_cui'] for m in results]\n",
    "    preds = [m['candidates'][0]['cui'] for m in results]\n",
    "    return gold, preds\n",
    "\n",
    "baseline_file = 'results/bb_binary_ce.json'\n",
    "baseline_acc1, baseline_acc5, baseline_similarity = get_results(baseline_file)\n",
    "baseline_gold, baseline_preds = get_cuis(baseline_file)"
   ]
  },
  {
   "cell_type": "code",
   "execution_count": 106,
   "metadata": {},
   "outputs": [
    {
     "data": {
      "text/plain": [
       "0.16666666666666666"
      ]
     },
     "execution_count": 106,
     "metadata": {},
     "output_type": "execute_result"
    }
   ],
   "source": [
    "def approximate_randomization(out_A, out_B, R):\n",
    "    \"\"\"\n",
    "    Approximate randomization for assessing statistical significance between NLP results.\n",
    "    This function takes in scores computed for each prediction by systems A and B.\n",
    "    It iterates R times, randomly swapping paired outputs each time with 50% probability\n",
    "    to generate random outputs. P-value is determined by the proportion of time that \n",
    "    randomness generated a larger absolute difference in the mean value of scores than\n",
    "    the actual mean value from the systems' respective outputs.\n",
    "\n",
    "    NOTE: This method is intended for assessing statistical difference between lists\n",
    "    of scores which have already been scored individually (i.e. accuracy, similarity).\n",
    "    Approximate randomization is also appropriate for more complex metrics like precision\n",
    "    and F1, but the method would need to be adapted to pass in lists of non-scored outputs\n",
    "    (i.e. CUIs) and score the performance of A, B after each iteration.\n",
    "\n",
    "    Parameters:\n",
    "        out_A   list: output scores from system/configuration A\n",
    "        out_B   list: output scores from system/configuration B\n",
    "        R       int: number of iterations\n",
    "    \"\"\"\n",
    "    out_A = np.array(out_A)\n",
    "    out_B = np.array(out_B)\n",
    "    assert(len(out_A)==len(out_B))\n",
    "\n",
    "    # Test statistic: absolute difference in scores\n",
    "    t = abs(out_A.mean()-out_B.mean())\n",
    "    r = 0 \n",
    "    for i in range(R):\n",
    "        X = out_A\n",
    "        Y = out_B\n",
    "\n",
    "        # Randomly swap paired outputs 50% of the time\n",
    "        swap_ix = np.random.choice(a=[False, True], size=len(out_A), p=[0.5, 0.5])\n",
    "        temp = X[swap_ix]\n",
    "        X[swap_ix] = Y[swap_ix]\n",
    "        Y[swap_ix] = temp\n",
    "\n",
    "        if abs(X.mean()-Y.mean()) >= t:\n",
    "            # Count times randomness produces larger difference than output source\n",
    "            r += 1\n",
    "\n",
    "    # Calculate p-value\n",
    "    p = (r+1)/(R+1)\n",
    "    return p\n",
    "approximate_randomization(baseline_acc1, acc1, R=5)"
   ]
  },
  {
   "cell_type": "code",
   "execution_count": 105,
   "metadata": {},
   "outputs": [
    {
     "name": "stdout",
     "output_type": "stream",
     "text": [
      "results\\bb_unsupervised.json\n",
      "acc@1 \t***\tp=1.999960000799984e-05\n",
      "acc@5 \t***\tp=1.999960000799984e-05\n",
      "sim \t***\tp=1.999960000799984e-05\n",
      "---------------------------------------------------------------------------------------------------\n",
      "results\\cb_unsupervised.json\n",
      "acc@1 \t***\tp=1.999960000799984e-05\n",
      "acc@5 \t***\tp=1.999960000799984e-05\n",
      "sim \t***\tp=1.999960000799984e-05\n",
      "---------------------------------------------------------------------------------------------------\n"
     ]
    }
   ],
   "source": [
    "R = 50*1000\n",
    "for file in glob.glob('results/*unsupervised.json'):\n",
    "    print(file)\n",
    "    acc1, acc5, similarity = get_results(file)\n",
    "    acc1_p = approximate_randomization(baseline_acc1, acc1, R)\n",
    "    acc5_p = approximate_randomization(baseline_acc5, acc5, R)\n",
    "    sim_p = approximate_randomization(baseline_similarity, similarity, R)\n",
    "    print(f\"acc@1 \\t{sig(acc1_p)}\\tp={acc1_p}\")\n",
    "    print(f\"acc@5 \\t{sig(acc5_p)}\\tp={acc5_p}\")\n",
    "    print(f\"sim \\t{sig(sim_p)}\\tp={sim_p}\")\n",
    "    print(\"-\"*99)"
   ]
  },
  {
   "cell_type": "code",
   "execution_count": 103,
   "metadata": {},
   "outputs": [
    {
     "name": "stdout",
     "output_type": "stream",
     "text": [
      "results\\bb_binary_ce.json\n",
      "acc@1 \t\tp=1.0\n",
      "acc@5 \t\tp=1.0\n",
      "sim \t\tp=1.0\n",
      "---------------------------------------------------------------------------------------------------\n",
      "results\\bb_binary_sce.json\n",
      "acc@1 \t\tp=0.25387492250154997\n",
      "acc@5 \t\tp=0.07223855522889543\n",
      "sim \t\tp=0.36029279414411713\n",
      "---------------------------------------------------------------------------------------------------\n",
      "results\\bb_linear_ce.json\n",
      "acc@1 \t**\tp=0.0027599448011039777\n",
      "acc@5 \t*\tp=0.01633967320653587\n",
      "sim \t\tp=0.10477790444191117\n",
      "---------------------------------------------------------------------------------------------------\n",
      "results\\bb_linear_sce.json\n",
      "acc@1 \t***\tp=0.0002799944001119978\n",
      "acc@5 \t\tp=0.06767864642707146\n",
      "sim \t**\tp=0.006079878402431951\n",
      "---------------------------------------------------------------------------------------------------\n",
      "results\\bb_log_ce.json\n",
      "acc@1 \t\tp=0.8383832323353533\n",
      "acc@5 \t\tp=0.4468310633787324\n",
      "sim \t*\tp=0.047819043619127616\n",
      "---------------------------------------------------------------------------------------------------\n",
      "results\\bb_log_sce.json\n",
      "acc@1 \t\tp=0.507589848203036\n",
      "acc@5 \t\tp=0.08133837323253534\n",
      "sim \t\tp=0.506909861802764\n",
      "---------------------------------------------------------------------------------------------------\n",
      "results\\cb_binary_ce.json\n",
      "acc@1 \t\tp=0.5223095538089239\n",
      "acc@5 \t\tp=0.7079458410831784\n",
      "sim \t\tp=0.41375172496550067\n",
      "---------------------------------------------------------------------------------------------------\n",
      "results\\cb_binary_sce.json\n",
      "acc@1 \t\tp=0.4257114857702846\n",
      "acc@5 \t\tp=0.5633287334253315\n",
      "sim \t\tp=0.43553128937421254\n",
      "---------------------------------------------------------------------------------------------------\n",
      "results\\cb_linear_ce.json\n",
      "acc@1 \t***\tp=0.0002799944001119978\n",
      "acc@5 \t***\tp=1.999960000799984e-05\n",
      "sim \t*\tp=0.033999320013599725\n",
      "---------------------------------------------------------------------------------------------------\n",
      "results\\cb_linear_sce.json\n",
      "acc@1 \t***\tp=1.999960000799984e-05\n",
      "acc@5 \t***\tp=1.999960000799984e-05\n",
      "sim \t*\tp=0.01365972680546389\n",
      "---------------------------------------------------------------------------------------------------\n",
      "results\\cb_log_ce.json\n",
      "acc@1 \t\tp=0.6360072798544029\n",
      "acc@5 \t\tp=0.14307713845723086\n",
      "sim \t\tp=0.29241415171696566\n",
      "---------------------------------------------------------------------------------------------------\n",
      "results\\cb_log_sce.json\n",
      "acc@1 \t\tp=0.13219735605287894\n",
      "acc@5 \t\tp=0.11467770644587108\n",
      "sim \t\tp=0.6398872022559549\n",
      "---------------------------------------------------------------------------------------------------\n"
     ]
    }
   ],
   "source": [
    "def sig(p):\n",
    "    if p < .001:\n",
    "        return '***'\n",
    "    elif p < .01:\n",
    "        return '**'\n",
    "    elif p < .05:\n",
    "        return '*'\n",
    "    return ''\n",
    "\n",
    "R = 50*1000\n",
    "for file in glob.glob('results/*ce.json'):\n",
    "    print(file)\n",
    "    acc1, acc5, similarity = get_results(file)\n",
    "    acc1_p = approximate_randomization(baseline_acc1, acc1, R)\n",
    "    acc5_p = approximate_randomization(baseline_acc5, acc5, R)\n",
    "    sim_p = approximate_randomization(baseline_similarity, similarity, R)\n",
    "    print(f\"acc@1 \\t{sig(acc1_p)}\\tp={acc1_p}\")\n",
    "    print(f\"acc@5 \\t{sig(acc5_p)}\\tp={acc5_p}\")\n",
    "    print(f\"sim \\t{sig(sim_p)}\\tp={sim_p}\")\n",
    "    print(\"-\"*99)\n"
   ]
  }
 ],
 "metadata": {
  "kernelspec": {
   "display_name": "Python 3.8.13 ('UMLS')",
   "language": "python",
   "name": "python3"
  },
  "language_info": {
   "codemirror_mode": {
    "name": "ipython",
    "version": 3
   },
   "file_extension": ".py",
   "mimetype": "text/x-python",
   "name": "python",
   "nbconvert_exporter": "python",
   "pygments_lexer": "ipython3",
   "version": "3.8.13"
  },
  "orig_nbformat": 4,
  "vscode": {
   "interpreter": {
    "hash": "fa9a1dfa229c64dc67fe2c38c8680ec04e6e9810f35458aade5395baf6180889"
   }
  }
 },
 "nbformat": 4,
 "nbformat_minor": 2
}
