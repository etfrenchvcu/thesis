{
 "cells": [
  {
   "cell_type": "code",
   "execution_count": 1,
   "metadata": {},
   "outputs": [
    {
     "data": {
      "text/plain": [
       "{'candidates': 20,\n",
       " 'device': 'mps',\n",
       " 'path': 'datasets/development',\n",
       " 'max_length': 25,\n",
       " 'batch_size': 16,\n",
       " 'epochs': 1,\n",
       " 'loss_fn': 'nll',\n",
       " 'contextualized': False,\n",
       " 'similarity_type': 'binary'}"
      ]
     },
     "execution_count": 1,
     "metadata": {},
     "output_type": "execute_result"
    }
   ],
   "source": [
    "import json\n",
    "class obj:\n",
    "    # constructor\n",
    "    def __init__(self, dict1):\n",
    "        self.__dict__.update(dict1)\n",
    "args = {\n",
    "    \"candidates\": 20,\n",
    "    \"device\": 'mps',\n",
    "    \"path\": 'datasets/development',\n",
    "    \"max_length\": 25,\n",
    "    \"batch_size\": 16,\n",
    "    \"epochs\": 1,\n",
    "    \"loss_fn\": \"nll\",\n",
    "    \"contextualized\": False,\n",
    "    \"similarity_type\": 'binary'\n",
    "}\n",
    "args = json.loads(json.dumps(args), object_hook=obj)\n",
    "vars(args)"
   ]
  },
  {
   "cell_type": "code",
   "execution_count": 2,
   "metadata": {},
   "outputs": [
    {
     "name": "stderr",
     "output_type": "stream",
     "text": [
      "Some weights of the model checkpoint at dmis-lab/biobert-base-cased-v1.1 were not used when initializing BertModel: ['cls.predictions.transform.LayerNorm.bias', 'cls.predictions.decoder.weight', 'cls.predictions.decoder.bias', 'cls.seq_relationship.bias', 'cls.predictions.transform.dense.bias', 'cls.seq_relationship.weight', 'cls.predictions.transform.LayerNorm.weight', 'cls.predictions.bias', 'cls.predictions.transform.dense.weight']\n",
      "- This IS expected if you are initializing BertModel from the checkpoint of a model trained on another task or with another architecture (e.g. initializing a BertForSequenceClassification model from a BertForPreTraining model).\n",
      "- This IS NOT expected if you are initializing BertModel from the checkpoint of a model that you expect to be exactly identical (initializing a BertForSequenceClassification model from a BertForSequenceClassification model).\n",
      "/opt/homebrew/Caskroom/miniforge/base/envs/BioSyn/lib/python3.8/site-packages/transformers/optimization.py:306: FutureWarning: This implementation of AdamW is deprecated and will be removed in a future version. Use the PyTorch implementation torch.optim.AdamW instead, or set `no_deprecation_warning=True` to disable this warning\n",
      "  warnings.warn(\n",
      "100%|██████████| 179/179 [00:00<00:00, 1347900.21it/s]\n",
      "07/14/2022 11:35:09 AM: [ Dictionary loaded ]\n",
      "100%|██████████| 2/2 [00:00<00:00, 837.44it/s]\n",
      "100%|██████████| 2/2 [00:00<00:00, 8397.01it/s]\n",
      "07/14/2022 11:35:09 AM: [ Mentions loaded ]\n"
     ]
    }
   ],
   "source": [
    "from importlib import reload\n",
    "\n",
    "import numpy as np\n",
    "import time\n",
    "import torch\n",
    "from tqdm import tqdm\n",
    "from transformers import (\n",
    "    AutoModel,\n",
    "    AutoTokenizer\n",
    ")\n",
    "\n",
    "# Local modules\n",
    "from src.candidateDataset import CandidateDataset\n",
    "from src.rerankNet import RerankNet\n",
    "from src.umls import Umls\n",
    "import src.utils as utils\n",
    "\n",
    "#TODO: Add additional loss functions\n",
    "loss_fn = utils.marginal_nll\n",
    "\n",
    "# Initialize\n",
    "LOGGER = utils.init_logging()\n",
    "utils.init_seed(42)\n",
    "model_name_or_path = 'dmis-lab/biobert-base-cased-v1.1'\n",
    "bert = AutoModel.from_pretrained(model_name_or_path).to(args.device)\n",
    "tokenizer = AutoTokenizer.from_pretrained(model_name_or_path)\n",
    "\n",
    "# Build model\n",
    "model = RerankNet(bert, \n",
    "                  device = args.device, \n",
    "                  loss_fn='nll')\n",
    "\n",
    "# Load UMLS data\n",
    "umls = Umls('umls/processed')\n",
    "\n",
    "# Load dictionary\n",
    "dictionary = utils.load_dictionary(args.path+'/dev_dictionary.txt')\n",
    "LOGGER.info(\"Dictionary loaded\")\n",
    "\n",
    "# Load training data\n",
    "train_mentions = utils.load_mentions(args.path+'/processed_dev')\n",
    "train_set = CandidateDataset(train_mentions, dictionary, tokenizer, args.max_length, args.candidates, args.similarity_type, umls) \n",
    "train_loader = torch.utils.data.DataLoader(train_set, batch_size=args.batch_size, shuffle=True)\n",
    "\n",
    "dev_mentions = utils.load_mentions(args.path+'/processed_dev')\n",
    "dev_set = CandidateDataset(dev_mentions, dictionary, tokenizer, args.max_length, args.candidates, args.similarity_type, umls) \n",
    "dev_loader = torch.utils.data.DataLoader(dev_set, batch_size=args.batch_size, shuffle=True)\n",
    "LOGGER.info(\"Mentions loaded\")"
   ]
  },
  {
   "cell_type": "code",
   "execution_count": 3,
   "metadata": {},
   "outputs": [
    {
     "name": "stderr",
     "output_type": "stream",
     "text": [
      "07/14/2022 10:58:18 AM: [ train! ]\n",
      "Bulk embedding...: 100%|██████████| 1/1 [00:04<00:00,  4.31s/it]\n",
      "Bulk embedding...: 100%|██████████| 1/1 [00:01<00:00,  1.73s/it]\n",
      "Training epoch 0:   0%|          | 0/1 [00:10<?, ?it/s]\n"
     ]
    },
    {
     "ename": "NotImplementedError",
     "evalue": "The operator 'aten::index.Tensor' is not current implemented for the MPS device. If you want this op to be added in priority during the prototype phase of this feature, please comment on https://github.com/pytorch/pytorch/issues/77764. As a temporary fix, you can set the environment variable `PYTORCH_ENABLE_MPS_FALLBACK=1` to use the CPU as a fallback for this op. WARNING: this will be slower than running natively on MPS.",
     "output_type": "error",
     "traceback": [
      "\u001b[0;31m---------------------------------------------------------------------------\u001b[0m",
      "\u001b[0;31mNotImplementedError\u001b[0m                       Traceback (most recent call last)",
      "\u001b[1;32m/Users/evan/code/thesis/sandbox.ipynb Cell 3'\u001b[0m in \u001b[0;36m<cell line: 4>\u001b[0;34m()\u001b[0m\n\u001b[1;32m     <a href='vscode-notebook-cell:/Users/evan/code/thesis/sandbox.ipynb#ch0000009?line=24'>25</a>\u001b[0m batch_x, batch_y \u001b[39m=\u001b[39m data\n\u001b[1;32m     <a href='vscode-notebook-cell:/Users/evan/code/thesis/sandbox.ipynb#ch0000009?line=25'>26</a>\u001b[0m batch_pred \u001b[39m=\u001b[39m model(batch_x)\n\u001b[0;32m---> <a href='vscode-notebook-cell:/Users/evan/code/thesis/sandbox.ipynb#ch0000009?line=26'>27</a>\u001b[0m loss \u001b[39m=\u001b[39m loss_fn(batch_pred, batch_y\u001b[39m.\u001b[39;49mto(args\u001b[39m.\u001b[39;49mdevice))\n\u001b[1;32m     <a href='vscode-notebook-cell:/Users/evan/code/thesis/sandbox.ipynb#ch0000009?line=27'>28</a>\u001b[0m \u001b[39m# loss.backward() #TODO: Not working on the mac\u001b[39;00m\n\u001b[1;32m     <a href='vscode-notebook-cell:/Users/evan/code/thesis/sandbox.ipynb#ch0000009?line=28'>29</a>\u001b[0m model\u001b[39m.\u001b[39moptimizer\u001b[39m.\u001b[39mstep()\n",
      "File \u001b[0;32m~/code/thesis/src/utils.py:187\u001b[0m, in \u001b[0;36mmarginal_nll\u001b[0;34m(score, target)\u001b[0m\n\u001b[1;32m    185\u001b[0m loss \u001b[39m=\u001b[39m predict \u001b[39m*\u001b[39m target\n\u001b[1;32m    186\u001b[0m loss \u001b[39m=\u001b[39m loss\u001b[39m.\u001b[39msum(dim\u001b[39m=\u001b[39m\u001b[39m-\u001b[39m\u001b[39m1\u001b[39m)                   \u001b[39m# sum all positive scores\u001b[39;00m\n\u001b[0;32m--> 187\u001b[0m loss \u001b[39m=\u001b[39m loss[loss \u001b[39m>\u001b[39;49m \u001b[39m0\u001b[39;49m]                     \u001b[39m# filter sets with at least one positives\u001b[39;00m\n\u001b[1;32m    188\u001b[0m loss \u001b[39m=\u001b[39m torch\u001b[39m.\u001b[39mclamp(loss, \u001b[39mmin\u001b[39m\u001b[39m=\u001b[39m\u001b[39m1e-9\u001b[39m, \u001b[39mmax\u001b[39m\u001b[39m=\u001b[39m\u001b[39m1\u001b[39m) \u001b[39m# for numerical stability\u001b[39;00m\n\u001b[1;32m    189\u001b[0m loss \u001b[39m=\u001b[39m \u001b[39m-\u001b[39mtorch\u001b[39m.\u001b[39mlog(loss)                   \u001b[39m# for negative log likelihood\u001b[39;00m\n",
      "\u001b[0;31mNotImplementedError\u001b[0m: The operator 'aten::index.Tensor' is not current implemented for the MPS device. If you want this op to be added in priority during the prototype phase of this feature, please comment on https://github.com/pytorch/pytorch/issues/77764. As a temporary fix, you can set the environment variable `PYTORCH_ENABLE_MPS_FALLBACK=1` to use the CPU as a fallback for this op. WARNING: this will be slower than running natively on MPS."
     ]
    }
   ],
   "source": [
    "# Begin Training loop\n",
    "LOGGER.info(\"train!\")\n",
    "start = time.time()\n",
    "for epoch in range(args.epochs):\n",
    "    ############## Candidate Generation ##############\n",
    "    train_candidate_idxs = utils.get_topk_candidates(\n",
    "            dict_names=list(dictionary[:,0]), \n",
    "            mentions=train_mentions, \n",
    "            tokenizer=tokenizer, \n",
    "            encoder=bert, \n",
    "            max_length=args.max_length, \n",
    "            device=args.device, \n",
    "            topk=args.candidates)\n",
    "                        \n",
    "    # Add candidates to training dataset\n",
    "    train_set.set_candidate_idxs(train_candidate_idxs)\n",
    "    \n",
    "    ###################### Train ######################\n",
    "    # Train encoder to properly rank candidates\n",
    "    train_loss = 0\n",
    "    train_steps = 0\n",
    "    model.train()\n",
    "    for i, data in tqdm(enumerate(train_loader), total=len(train_loader), desc=f'Training epoch {epoch}'):\n",
    "        model.optimizer.zero_grad()\n",
    "        batch_x, batch_y = data\n",
    "        batch_pred = model(batch_x)\n",
    "        loss = loss_fn(batch_pred, batch_y.to(args.device))\n",
    "        # loss.backward() #TODO: Not working on the mac\n",
    "        model.optimizer.step()\n",
    "        train_loss += loss.item()\n",
    "        train_steps += 1\n",
    "\n",
    "    train_loss = train_loss / (train_steps + 1e-9)\n",
    "    LOGGER.info('Epoch {}: loss/train_per_epoch={}/{}'.format(epoch,train_loss,epoch))\n",
    "    \n",
    "    #################### Evaluate ####################\n",
    "    # Get candidates on dev dataset\n",
    "    dev_candidate_idxs = utils.get_topk_candidates(\n",
    "            dict_names=list(dictionary[:,0]), \n",
    "            mentions=dev_mentions, \n",
    "            tokenizer=tokenizer, \n",
    "            encoder=bert, \n",
    "            max_length=args.max_length, \n",
    "            device=args.device, \n",
    "            topk=5) # Only need top five candidates to evaluate performance\n",
    "    \n",
    "    # Log performance on dev after each epoch\n",
    "    results = utils.evaluate(dev_mentions, dictionary[dev_candidate_idxs], umls)\n",
    "    if 'acc1' in results: LOGGER.info(\"Epoch {}: acc@1={}\".format(epoch,results['acc1']))\n",
    "    if 'acc5' in results: LOGGER.info(\"Epoch {}: acc@5={}\".format(epoch,results['acc5']))\n",
    "    if 'umls_similarity' in results: LOGGER.info(\"Epoch {}: umls_similarity={}\".format(epoch,results['umls_similarity']))\n"
   ]
  },
  {
   "cell_type": "code",
   "execution_count": 11,
   "metadata": {},
   "outputs": [
    {
     "data": {
      "text/plain": [
       "<module 'src.utils' from '/Users/evan/code/thesis/src/utils.py'>"
      ]
     },
     "execution_count": 11,
     "metadata": {},
     "output_type": "execute_result"
    }
   ],
   "source": [
    "import src.utils as utils\n",
    "reload(utils)"
   ]
  }
 ],
 "metadata": {
  "kernelspec": {
   "display_name": "Python 3.8.12 ('BioSyn')",
   "language": "python",
   "name": "python3"
  },
  "language_info": {
   "codemirror_mode": {
    "name": "ipython",
    "version": 3
   },
   "file_extension": ".py",
   "mimetype": "text/x-python",
   "name": "python",
   "nbconvert_exporter": "python",
   "pygments_lexer": "ipython3",
   "version": "3.8.12"
  },
  "orig_nbformat": 4,
  "vscode": {
   "interpreter": {
    "hash": "7f1988f44dc5f1726269da6d50ac6138ff653bd316e3f250065b36ec61053392"
   }
  }
 },
 "nbformat": 4,
 "nbformat_minor": 2
}
