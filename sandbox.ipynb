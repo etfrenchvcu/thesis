{
 "cells": [
  {
   "cell_type": "code",
   "execution_count": 5,
   "metadata": {},
   "outputs": [],
   "source": [
    "import json\n",
    "class obj:\n",
    "    # constructor\n",
    "    def __init__(self, dict1):\n",
    "        self.__dict__.update(dict1)\n",
    "args = {\n",
    "    \"candidates\": 20,\n",
    "    \"device\": 'mps',\n",
    "    \"dev_dir\":'datasets/development/processed_dev',\n",
    "    \"train_dir\":'datasets/development/processed_dev',\n",
    "    \"dictionary_path\": 'datasets/development/dev_dictionary.txt',\n",
    "    \"max_length\": 25,\n",
    "    \"model_name_or_path\": 'dmis-lab/biobert-base-cased-v1.1',\n",
    "    \"batch_size\": 16,\n",
    "    \"epochs\": 1,\n",
    "    \"loss_fn\": \"nll\",\n",
    "    \"contextualized\": False,\n",
    "    \"similarity_type\": 'binary'\n",
    "}\n",
    "args = json.loads(json.dumps(args), object_hook=obj)\n",
    "vars(args)\n",
    "\n",
    "from importlib import reload\n",
    "\n",
    "import numpy as np\n",
    "import time\n",
    "import torch\n",
    "from tqdm import tqdm\n",
    "from transformers import (\n",
    "    AutoModel,\n",
    "    AutoTokenizer\n",
    ")\n",
    "\n",
    "# Local modules\n",
    "from src.candidateDataset import CandidateDataset\n",
    "from src.rerankNet import RerankNet\n",
    "from src.umls import Umls\n",
    "import src.utils as utils"
   ]
  },
  {
   "cell_type": "code",
   "execution_count": null,
   "metadata": {},
   "outputs": [],
   "source": [
    "LOGGER = utils.init_logging()\n",
    "LOGGER.info(args)\n",
    "utils.init_seed(42)\n",
    "bert = AutoModel.from_pretrained(args.model_name_or_path).to(args.device)\n",
    "tokenizer = AutoTokenizer.from_pretrained(args.model_name_or_path)\n",
    "\n",
    "# Set loss function\n",
    "if args.loss_fn=='nll':\n",
    "    loss_fn = utils.marginal_nll\n",
    "elif args.loss_fn=='bce':\n",
    "    loss_fn = utils.marginal_nll\n",
    "else:\n",
    "    raise Exception(f\"Invalid loss function {args.loss_fn}\")\n",
    "    \n",
    "# Build model\n",
    "model = RerankNet(bert, device = args.device)\n",
    "\n",
    "# Load UMLS data\n",
    "umls = Umls('umls/processed')\n",
    "LOGGER.info(\"UMLS data loaded\")\n",
    "\n",
    "# Load dictionary\n",
    "dictionary = utils.load_dictionary(args.dictionary_path)\n",
    "LOGGER.info(\"Dictionary loaded\")\n",
    "\n",
    "# Load training data\n",
    "train_mentions = utils.load_mentions(args.train_dir)\n",
    "train_set = CandidateDataset(train_mentions, dictionary, tokenizer, args.max_length, args.candidates, args.similarity_type, umls) \n",
    "train_loader = torch.utils.data.DataLoader(train_set, batch_size=args.batch_size, shuffle=True)\n",
    "\n",
    "# Load dev data for validation\n",
    "dev_mentions = utils.load_mentions(args.dev_dir)\n",
    "LOGGER.info(\"Mentions loaded\")"
   ]
  },
  {
   "cell_type": "code",
   "execution_count": 8,
   "metadata": {},
   "outputs": [
    {
     "name": "stderr",
     "output_type": "stream",
     "text": [
      "Bulk embedding...: 100%|██████████| 1/1 [00:03<00:00,  3.44s/it]\n",
      "Bulk embedding...: 100%|██████████| 1/1 [00:00<00:00,  3.23it/s]\n",
      "Training epoch 0:   0%|          | 0/1 [00:02<?, ?it/s]\n"
     ]
    },
    {
     "ename": "NotImplementedError",
     "evalue": "The operator 'aten::index.Tensor' is not current implemented for the MPS device. If you want this op to be added in priority during the prototype phase of this feature, please comment on https://github.com/pytorch/pytorch/issues/77764. As a temporary fix, you can set the environment variable `PYTORCH_ENABLE_MPS_FALLBACK=1` to use the CPU as a fallback for this op. WARNING: this will be slower than running natively on MPS.",
     "output_type": "error",
     "traceback": [
      "\u001b[0;31m---------------------------------------------------------------------------\u001b[0m",
      "\u001b[0;31mNotImplementedError\u001b[0m                       Traceback (most recent call last)",
      "\u001b[1;32m/Users/evan/code/thesis/sandbox.ipynb Cell 3'\u001b[0m in \u001b[0;36m<cell line: 2>\u001b[0;34m()\u001b[0m\n\u001b[1;32m     <a href='vscode-notebook-cell:/Users/evan/code/thesis/sandbox.ipynb#ch0000002?line=22'>23</a>\u001b[0m batch_x, batch_y \u001b[39m=\u001b[39m data\n\u001b[1;32m     <a href='vscode-notebook-cell:/Users/evan/code/thesis/sandbox.ipynb#ch0000002?line=23'>24</a>\u001b[0m batch_pred \u001b[39m=\u001b[39m model(batch_x)\n\u001b[0;32m---> <a href='vscode-notebook-cell:/Users/evan/code/thesis/sandbox.ipynb#ch0000002?line=24'>25</a>\u001b[0m loss \u001b[39m=\u001b[39m loss_fn(batch_pred, batch_y\u001b[39m.\u001b[39;49mto(args\u001b[39m.\u001b[39;49mdevice))\n\u001b[1;32m     <a href='vscode-notebook-cell:/Users/evan/code/thesis/sandbox.ipynb#ch0000002?line=25'>26</a>\u001b[0m \u001b[39m# loss.backward() #TODO: Not working on the mac\u001b[39;00m\n\u001b[1;32m     <a href='vscode-notebook-cell:/Users/evan/code/thesis/sandbox.ipynb#ch0000002?line=26'>27</a>\u001b[0m model\u001b[39m.\u001b[39moptimizer\u001b[39m.\u001b[39mstep()\n",
      "File \u001b[0;32m~/code/thesis/src/utils.py:150\u001b[0m, in \u001b[0;36mmarginal_nll\u001b[0;34m(score, target)\u001b[0m\n\u001b[1;32m    148\u001b[0m loss \u001b[39m=\u001b[39m predict \u001b[39m*\u001b[39m target\n\u001b[1;32m    149\u001b[0m loss \u001b[39m=\u001b[39m loss\u001b[39m.\u001b[39msum(dim\u001b[39m=\u001b[39m\u001b[39m-\u001b[39m\u001b[39m1\u001b[39m)                   \u001b[39m# sum all positive scores\u001b[39;00m\n\u001b[0;32m--> 150\u001b[0m loss \u001b[39m=\u001b[39m loss[loss \u001b[39m>\u001b[39;49m \u001b[39m0\u001b[39;49m]                     \u001b[39m# filter sets with at least one positives\u001b[39;00m\n\u001b[1;32m    151\u001b[0m loss \u001b[39m=\u001b[39m torch\u001b[39m.\u001b[39mclamp(loss, \u001b[39mmin\u001b[39m\u001b[39m=\u001b[39m\u001b[39m1e-9\u001b[39m, \u001b[39mmax\u001b[39m\u001b[39m=\u001b[39m\u001b[39m1\u001b[39m) \u001b[39m# for numerical stability\u001b[39;00m\n\u001b[1;32m    152\u001b[0m loss \u001b[39m=\u001b[39m \u001b[39m-\u001b[39mtorch\u001b[39m.\u001b[39mlog(loss)                   \u001b[39m# for negative log likelihood\u001b[39;00m\n",
      "\u001b[0;31mNotImplementedError\u001b[0m: The operator 'aten::index.Tensor' is not current implemented for the MPS device. If you want this op to be added in priority during the prototype phase of this feature, please comment on https://github.com/pytorch/pytorch/issues/77764. As a temporary fix, you can set the environment variable `PYTORCH_ENABLE_MPS_FALLBACK=1` to use the CPU as a fallback for this op. WARNING: this will be slower than running natively on MPS."
     ]
    }
   ],
   "source": [
    "# Training loop\n",
    "for epoch in range(args.epochs):\n",
    "        ############## Candidate Generation ##############\n",
    "        train_candidate_idxs = utils.get_topk_candidates(\n",
    "                dict_names=list(dictionary[:,0]), \n",
    "                mentions=train_mentions, \n",
    "                tokenizer=tokenizer, \n",
    "                encoder=bert, \n",
    "                max_length=args.max_length, \n",
    "                device=args.device, \n",
    "                topk=args.candidates)\n",
    "                                \n",
    "        # Add candidates to training dataset\n",
    "        train_set.set_candidate_idxs(train_candidate_idxs)\n",
    "\n",
    "        ###################### Train ######################\n",
    "        # Train encoder to properly rank candidates\n",
    "        train_loss = 0\n",
    "        train_steps = 0\n",
    "        model.train()\n",
    "        for i, data in tqdm(enumerate(train_loader), total=len(train_loader), desc=f'Training epoch {epoch}'):\n",
    "                model.optimizer.zero_grad()\n",
    "                batch_x, batch_y = data\n",
    "                batch_pred = model(batch_x)\n",
    "                loss = loss_fn(batch_pred, batch_y.to(args.device))\n",
    "                # loss.backward() #TODO: Not working on the mac\n",
    "                model.optimizer.step()\n",
    "                train_loss += loss.item()\n",
    "                train_steps += 1\n",
    "\n",
    "        train_loss = train_loss / (train_steps + 1e-9)\n",
    "        LOGGER.info('Epoch {}: loss/train_per_epoch={}/{}'.format(epoch,train_loss,epoch))\n",
    "\n",
    "        #################### Evaluate ####################\n",
    "        # Get candidates on dev dataset\n",
    "        dev_candidate_idxs = utils.get_topk_candidates(\n",
    "                dict_names=list(dictionary[:,0]), \n",
    "                mentions=dev_mentions, \n",
    "                tokenizer=tokenizer, \n",
    "                encoder=bert, \n",
    "                max_length=args.max_length, \n",
    "                device=args.device, \n",
    "                topk=5) # Only need top five candidates to evaluate performance\n",
    "\n",
    "        # Log performance on dev after each epoch\n",
    "        results = utils.evaluate(dev_mentions, dictionary[dev_candidate_idxs], umls)\n",
    "        if 'acc1' in results: LOGGER.info(\"Epoch {}: acc@1={}\".format(epoch,results['acc1']))\n",
    "        if 'acc5' in results: LOGGER.info(\"Epoch {}: acc@5={}\".format(epoch,results['acc5']))\n",
    "        if 'umls_similarity' in results: LOGGER.info(\"Epoch {}: umls_similarity={}\".format(epoch,results['umls_similarity']))"
   ]
  },
  {
   "cell_type": "code",
   "execution_count": 397,
   "metadata": {},
   "outputs": [
    {
     "name": "stderr",
     "output_type": "stream",
     "text": [
      "/Users/evan/code/thesis/src/utils.py:79: SyntaxWarning: assertion is always true, perhaps remove parentheses?\n",
      "  # Check all annotations were fixed\n"
     ]
    },
    {
     "data": {
      "text/plain": [
       "<module 'src.utils' from '/Users/evan/code/thesis/src/utils.py'>"
      ]
     },
     "execution_count": 397,
     "metadata": {},
     "output_type": "execute_result"
    }
   ],
   "source": [
    "import src.utils as utils\n",
    "reload(utils)"
   ]
  },
  {
   "cell_type": "code",
   "execution_count": null,
   "metadata": {},
   "outputs": [],
   "source": []
  },
  {
   "cell_type": "code",
   "execution_count": 64,
   "metadata": {},
   "outputs": [
    {
     "name": "stdout",
     "output_type": "stream",
     "text": [
      "torch.Size([8, 20]) torch.Size([8, 20])\n"
     ]
    },
    {
     "data": {
      "text/plain": [
       "tensor([[1., 0., 0., 0., 0.],\n",
       "        [1., 1., 1., 0., 0.],\n",
       "        [1., 0., 0., 0., 0.],\n",
       "        [1., 1., 0., 0., 0.],\n",
       "        [1., 1., 1., 1., 1.],\n",
       "        [1., 0., 0., 0., 0.],\n",
       "        [1., 1., 1., 0., 0.],\n",
       "        [0., 0., 0., 0., 0.]])"
      ]
     },
     "execution_count": 64,
     "metadata": {},
     "output_type": "execute_result"
    }
   ],
   "source": [
    "print(batch_pred.shape, batch_y.shape)\n",
    "expected_ixs = utils.retrieve_candidates(batch_y, topk=5)\n",
    "expected = torch.stack([batch_y[i][expected_ixs[i]] for i in range(batch_pred.shape[0])])\n",
    "expected"
   ]
  },
  {
   "cell_type": "code",
   "execution_count": 54,
   "metadata": {},
   "outputs": [
    {
     "data": {
      "text/plain": [
       "tensor([[1., 0., 0., 0., 0.],\n",
       "        [1., 0., 0., 0., 0.],\n",
       "        [0., 0., 0., 0., 0.],\n",
       "        [1., 0., 0., 0., 0.],\n",
       "        [1., 0., 0., 0., 0.],\n",
       "        [0., 0., 0., 0., 0.],\n",
       "        [0., 0., 0., 0., 0.],\n",
       "        [0., 0., 0., 0., 0.]])"
      ]
     },
     "execution_count": 54,
     "metadata": {},
     "output_type": "execute_result"
    }
   ],
   "source": [
    "predicted_ixs = utils.retrieve_candidates(batch_pred.detach().cpu(), topk=5)\n",
    "predicted = torch.stack([batch_y[i][predicted_ixs[i]] for i in range(batch_pred.shape[0])])\n",
    "predicted"
   ]
  },
  {
   "cell_type": "code",
   "execution_count": 55,
   "metadata": {},
   "outputs": [
    {
     "data": {
      "text/plain": [
       "tensor(30.)"
      ]
     },
     "execution_count": 55,
     "metadata": {},
     "output_type": "execute_result"
    }
   ],
   "source": [
    "torch.nn.functional.binary_cross_entropy(predicted, expected)"
   ]
  },
  {
   "cell_type": "code",
   "execution_count": 57,
   "metadata": {},
   "outputs": [
    {
     "data": {
      "text/plain": [
       "tensor(0.8716, grad_fn=<BinaryCrossEntropyBackward0>)"
      ]
     },
     "execution_count": 57,
     "metadata": {},
     "output_type": "execute_result"
    }
   ],
   "source": [
    "input = torch.randn(3, 2, requires_grad=True)\n",
    "target = torch.rand(3, 2, requires_grad=False)\n",
    "loss = torch.nn.functional.binary_cross_entropy(torch.sigmoid(input), target)\n",
    "loss"
   ]
  },
  {
   "cell_type": "code",
   "execution_count": 62,
   "metadata": {},
   "outputs": [
    {
     "data": {
      "text/plain": [
       "(tensor([[ 0.1844, -0.1064],\n",
       "         [ 0.1777,  1.3448],\n",
       "         [-0.6941, -1.8600]], requires_grad=True),\n",
       " tensor([[0.5460, 0.4734],\n",
       "         [0.5443, 0.7933],\n",
       "         [0.3331, 0.1347]], grad_fn=<SigmoidBackward0>),\n",
       " tensor([[0.7057, 0.1659],\n",
       "         [0.3779, 0.1089],\n",
       "         [0.0501, 0.6333]]))"
      ]
     },
     "execution_count": 62,
     "metadata": {},
     "output_type": "execute_result"
    }
   ],
   "source": [
    "input, torch.sigmoid(input), target"
   ]
  }
 ],
 "metadata": {
  "kernelspec": {
   "display_name": "Python 3.8.12 ('BioSyn')",
   "language": "python",
   "name": "python3"
  },
  "language_info": {
   "codemirror_mode": {
    "name": "ipython",
    "version": 3
   },
   "file_extension": ".py",
   "mimetype": "text/x-python",
   "name": "python",
   "nbconvert_exporter": "python",
   "pygments_lexer": "ipython3",
   "version": "3.8.12"
  },
  "orig_nbformat": 4,
  "vscode": {
   "interpreter": {
    "hash": "7f1988f44dc5f1726269da6d50ac6138ff653bd316e3f250065b36ec61053392"
   }
  }
 },
 "nbformat": 4,
 "nbformat_minor": 2
}
