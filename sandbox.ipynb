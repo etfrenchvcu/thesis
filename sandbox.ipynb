{
 "cells": [
  {
   "cell_type": "code",
   "execution_count": 1,
   "metadata": {},
   "outputs": [
    {
     "data": {
      "text/plain": [
       "{'candidates': 20,\n",
       " 'device': 'mps',\n",
       " 'path': 'datasets/development',\n",
       " 'max_length': 25,\n",
       " 'batch_size': 16,\n",
       " 'epochs': 1,\n",
       " 'loss_fn': 'nll',\n",
       " 'contextualized': False}"
      ]
     },
     "execution_count": 1,
     "metadata": {},
     "output_type": "execute_result"
    }
   ],
   "source": [
    "import json\n",
    "class obj:\n",
    "    # constructor\n",
    "    def __init__(self, dict1):\n",
    "        self.__dict__.update(dict1)\n",
    "args = {\n",
    "    \"candidates\": 20,\n",
    "    \"device\": 'mps',\n",
    "    \"path\": 'datasets/development',\n",
    "    \"max_length\": 25,\n",
    "    \"batch_size\": 16,\n",
    "    \"epochs\": 1,\n",
    "    \"loss_fn\": \"nll\",\n",
    "    \"contextualized\": False\n",
    "}\n",
    "args = json.loads(json.dumps(args), object_hook=obj)\n",
    "vars(args)"
   ]
  },
  {
   "cell_type": "code",
   "execution_count": 2,
   "metadata": {},
   "outputs": [
    {
     "name": "stderr",
     "output_type": "stream",
     "text": [
      "Some weights of the model checkpoint at dmis-lab/biobert-base-cased-v1.1 were not used when initializing BertModel: ['cls.predictions.bias', 'cls.predictions.transform.LayerNorm.weight', 'cls.predictions.decoder.weight', 'cls.seq_relationship.bias', 'cls.predictions.transform.dense.bias', 'cls.predictions.transform.dense.weight', 'cls.predictions.transform.LayerNorm.bias', 'cls.predictions.decoder.bias', 'cls.seq_relationship.weight']\n",
      "- This IS expected if you are initializing BertModel from the checkpoint of a model trained on another task or with another architecture (e.g. initializing a BertForSequenceClassification model from a BertForPreTraining model).\n",
      "- This IS NOT expected if you are initializing BertModel from the checkpoint of a model that you expect to be exactly identical (initializing a BertForSequenceClassification model from a BertForSequenceClassification model).\n",
      "/opt/homebrew/Caskroom/miniforge/base/envs/BioSyn/lib/python3.8/site-packages/transformers/optimization.py:306: FutureWarning: This implementation of AdamW is deprecated and will be removed in a future version. Use the PyTorch implementation torch.optim.AdamW instead, or set `no_deprecation_warning=True` to disable this warning\n",
      "  warnings.warn(\n",
      "100%|██████████| 179/179 [00:00<00:00, 1141003.67it/s]\n",
      "07/13/2022 04:21:50 PM: [ Dictionary loaded ]\n",
      "100%|██████████| 2/2 [00:00<00:00, 2933.08it/s]\n",
      "100%|██████████| 2/2 [00:00<00:00, 2427.26it/s]\n",
      "07/13/2022 04:21:50 PM: [ Mentions loaded ]\n"
     ]
    }
   ],
   "source": [
    "from importlib import reload\n",
    "\n",
    "import numpy as np\n",
    "import time\n",
    "import torch\n",
    "from tqdm import tqdm\n",
    "from transformers import (\n",
    "    AutoModel,\n",
    "    AutoTokenizer\n",
    ")\n",
    "\n",
    "# Local modules\n",
    "from src.candidateDataset import CandidateDataset\n",
    "from src.rerankNet import RerankNet\n",
    "from src.umls import Umls\n",
    "import src.utils as utils\n",
    "\n",
    "#TODO: Add additional loss functions\n",
    "loss_fn = utils.marginal_nll\n",
    "\n",
    "# Initialize\n",
    "LOGGER = utils.init_logging()\n",
    "utils.init_seed(42)\n",
    "model_name_or_path = 'dmis-lab/biobert-base-cased-v1.1'\n",
    "bert = AutoModel.from_pretrained(model_name_or_path).to(args.device)\n",
    "tokenizer = AutoTokenizer.from_pretrained(model_name_or_path)\n",
    "\n",
    "# Build model\n",
    "model = RerankNet(bert, \n",
    "                  device = args.device, \n",
    "                  loss_fn='nll')\n",
    "\n",
    "# Load UMLS data\n",
    "umls = Umls('umls/processed')\n",
    "\n",
    "# Load dictionary\n",
    "dictionary = utils.load_dictionary(args.path+'/dev_dictionary.txt')\n",
    "LOGGER.info(\"Dictionary loaded\")\n",
    "\n",
    "# Load training data\n",
    "train_mentions = utils.load_mentions(args.path+'/processed_dev')\n",
    "train_set = CandidateDataset(train_mentions, dictionary, tokenizer, args.max_length, args.candidates) \n",
    "train_loader = torch.utils.data.DataLoader(train_set, batch_size=args.batch_size, shuffle=True)\n",
    "\n",
    "dev_mentions = utils.load_mentions(args.path+'/processed_dev')\n",
    "dev_set = CandidateDataset(dev_mentions, dictionary, tokenizer, args.max_length, args.candidates) \n",
    "dev_loader = torch.utils.data.DataLoader(dev_set, batch_size=args.batch_size, shuffle=True)\n",
    "LOGGER.info(\"Mentions loaded\")"
   ]
  },
  {
   "cell_type": "code",
   "execution_count": 3,
   "metadata": {},
   "outputs": [
    {
     "name": "stderr",
     "output_type": "stream",
     "text": [
      "07/13/2022 04:21:54 PM: [ train! ]\n",
      "Bulk embedding...: 100%|██████████| 1/1 [00:01<00:00,  1.75s/it]\n",
      "Bulk embedding...: 100%|██████████| 1/1 [00:00<00:00,  3.52it/s]\n",
      "Training epoch 0: 100%|██████████| 1/1 [00:02<00:00,  2.48s/it]\n",
      "07/13/2022 04:21:59 PM: [ Epoch 0: loss/train_per_epoch=4.364671702788648/0 ]\n",
      "Bulk embedding...: 100%|██████████| 1/1 [00:03<00:00,  3.55s/it]\n",
      "Bulk embedding...: 100%|██████████| 1/1 [00:00<00:00,  2.47it/s]\n",
      "07/13/2022 04:22:03 PM: [ Epoch 0: acc@1=0.875 ]\n",
      "07/13/2022 04:22:03 PM: [ Epoch 0: acc@5=0.875 ]\n",
      "07/13/2022 04:22:03 PM: [ Epoch 0: umls_similarity=0.9166666666666666 ]\n"
     ]
    }
   ],
   "source": [
    "# Begin Training loop\n",
    "LOGGER.info(\"train!\")\n",
    "start = time.time()\n",
    "for epoch in range(args.epochs):\n",
    "    ############## Candidate Generation ##############\n",
    "    train_candidate_idxs = utils.get_topk_candidates(\n",
    "            dict_names=list(dictionary[:,0]), \n",
    "            mentions=train_mentions, \n",
    "            tokenizer=tokenizer, \n",
    "            encoder=bert, \n",
    "            max_length=args.max_length, \n",
    "            device=args.device, \n",
    "            topk=args.candidates)\n",
    "                        \n",
    "    # Add candidates to training dataset\n",
    "    train_set.set_candidate_idxs(train_candidate_idxs)\n",
    "    \n",
    "    ###################### Train ######################\n",
    "    # Train encoder to properly rank candidates\n",
    "    train_loss = 0\n",
    "    train_steps = 0\n",
    "    model.train()\n",
    "    for i, data in tqdm(enumerate(train_loader), total=len(train_loader), desc=f'Training epoch {epoch}'):\n",
    "        model.optimizer.zero_grad()\n",
    "        batch_x, batch_y = data\n",
    "        batch_pred = model(batch_x)\n",
    "        loss = loss_fn(batch_pred, batch_y.to(args.device))\n",
    "        # loss.backward() #TODO: Not working on the mac\n",
    "        model.optimizer.step()\n",
    "        train_loss += loss.item()\n",
    "        train_steps += 1\n",
    "\n",
    "    train_loss = train_loss / (train_steps + 1e-9)\n",
    "    LOGGER.info('Epoch {}: loss/train_per_epoch={}/{}'.format(epoch,train_loss,epoch))\n",
    "    \n",
    "    #################### Evaluate ####################\n",
    "    # Get candidates on dev dataset\n",
    "    dev_candidate_idxs = utils.get_topk_candidates(\n",
    "            dict_names=list(dictionary[:,0]), \n",
    "            mentions=dev_mentions, \n",
    "            tokenizer=tokenizer, \n",
    "            encoder=bert, \n",
    "            max_length=args.max_length, \n",
    "            device=args.device, \n",
    "            topk=5) # Only need top five candidates to evaluate performance\n",
    "    \n",
    "    # Log performance on dev after each epoch\n",
    "    results = utils.evaluate(dev_mentions, dictionary[dev_candidate_idxs], umls)\n",
    "    if 'acc1' in results: LOGGER.info(\"Epoch {}: acc@1={}\".format(epoch,results['acc1']))\n",
    "    if 'acc5' in results: LOGGER.info(\"Epoch {}: acc@5={}\".format(epoch,results['acc5']))\n",
    "    if 'umls_similarity' in results: LOGGER.info(\"Epoch {}: umls_similarity={}\".format(epoch,results['umls_similarity']))\n"
   ]
  },
  {
   "cell_type": "code",
   "execution_count": 60,
   "metadata": {},
   "outputs": [],
   "source": [
    "x = batch_x\n",
    "mention_tokens, candidate_tokens = x\n",
    "batch_size, candidates, max_length = candidate_tokens.input_ids.shape\n",
    "        \n",
    "# Embed mentions\n",
    "mention_tokens = mention_tokens.to(args.device)\n",
    "mention_embeds = bert(\n",
    "            input_ids=mention_tokens['input_ids'].squeeze(1),\n",
    "            token_type_ids=mention_tokens['token_type_ids'].squeeze(1),\n",
    "            attention_mask=mention_tokens['attention_mask'].squeeze(1)\n",
    ")\n",
    "mention_embeds = mention_embeds[0][:,0].unsqueeze(1) # [CLS] embedding for mentions : [batch_size, 1, hidden]\n",
    "\n",
    "# Embed candidate names\n",
    "candidate_tokens = candidate_tokens.to(args.device)\n",
    "candidate_embeds = bert(\n",
    "            input_ids=candidate_tokens['input_ids'].reshape(-1, max_length),\n",
    "            token_type_ids=candidate_tokens['token_type_ids'].reshape(-1, max_length),\n",
    "            attention_mask=candidate_tokens['attention_mask'].reshape(-1, max_length)\n",
    ")\n",
    "candidate_embeds = candidate_embeds[0][:,0].reshape(batch_size, candidates, -1) # [batch_size, topk, hidden]"
   ]
  },
  {
   "cell_type": "code",
   "execution_count": 62,
   "metadata": {},
   "outputs": [
    {
     "data": {
      "text/plain": [
       "torch.Size([8, 20, 768])"
      ]
     },
     "execution_count": 62,
     "metadata": {},
     "output_type": "execute_result"
    }
   ],
   "source": [
    "batch_size, candidates, max_length = candidate_tokens.input_ids.shape\n",
    "candidate_embeds.shape"
   ]
  },
  {
   "cell_type": "code",
   "execution_count": 11,
   "metadata": {},
   "outputs": [
    {
     "data": {
      "text/plain": [
       "<module 'src.utils' from '/Users/evan/code/thesis/src/utils.py'>"
      ]
     },
     "execution_count": 11,
     "metadata": {},
     "output_type": "execute_result"
    }
   ],
   "source": [
    "import src.utils as utils\n",
    "reload(utils)"
   ]
  }
 ],
 "metadata": {
  "kernelspec": {
   "display_name": "Python 3.8.12 ('BioSyn')",
   "language": "python",
   "name": "python3"
  },
  "language_info": {
   "codemirror_mode": {
    "name": "ipython",
    "version": 3
   },
   "file_extension": ".py",
   "mimetype": "text/x-python",
   "name": "python",
   "nbconvert_exporter": "python",
   "pygments_lexer": "ipython3",
   "version": "3.8.12"
  },
  "orig_nbformat": 4,
  "vscode": {
   "interpreter": {
    "hash": "7f1988f44dc5f1726269da6d50ac6138ff653bd316e3f250065b36ec61053392"
   }
  }
 },
 "nbformat": 4,
 "nbformat_minor": 2
}
