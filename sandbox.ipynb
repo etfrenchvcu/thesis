{
 "cells": [
  {
   "cell_type": "code",
   "execution_count": 5,
   "metadata": {},
   "outputs": [],
   "source": [
    "import json\n",
    "class obj:\n",
    "    # constructor\n",
    "    def __init__(self, dict1):\n",
    "        self.__dict__.update(dict1)\n",
    "args = {\n",
    "    \"candidates\": 20,\n",
    "    \"device\": 'mps',\n",
    "    \"dev_dir\":'datasets/development/processed_dev',\n",
    "    \"train_dir\":'datasets/development/processed_dev',\n",
    "    \"dictionary_path\": 'datasets/development/dev_dictionary.txt',\n",
    "    \"max_length\": 25,\n",
    "    \"model_name_or_path\": 'dmis-lab/biobert-base-cased-v1.1',\n",
    "    \"batch_size\": 16,\n",
    "    \"epochs\": 1,\n",
    "    \"loss_fn\": \"mse\",\n",
    "    \"contextualized\": False,\n",
    "    \"similarity_type\": 'binary'\n",
    "}\n",
    "args = json.loads(json.dumps(args), object_hook=obj)\n",
    "vars(args)\n",
    "\n",
    "from importlib import reload\n",
    "\n",
    "import numpy as np\n",
    "import time\n",
    "import torch\n",
    "from tqdm import tqdm\n",
    "from transformers import (\n",
    "    AutoModel,\n",
    "    AutoTokenizer\n",
    ")\n",
    "\n",
    "# Local modules\n",
    "from src.candidateDataset import CandidateDataset\n",
    "from src.rerankNet import RerankNet\n",
    "from src.umls import Umls\n",
    "import src.utils as utils"
   ]
  },
  {
   "cell_type": "code",
   "execution_count": 6,
   "metadata": {},
   "outputs": [
    {
     "name": "stderr",
     "output_type": "stream",
     "text": [
      "07/15/2022 01:31:42 PM: [ <__main__.obj object at 0x160e298b0> ]\n",
      "Some weights of the model checkpoint at dmis-lab/biobert-base-cased-v1.1 were not used when initializing BertModel: ['cls.predictions.transform.LayerNorm.bias', 'cls.seq_relationship.bias', 'cls.predictions.transform.dense.bias', 'cls.predictions.decoder.bias', 'cls.seq_relationship.weight', 'cls.predictions.bias', 'cls.predictions.transform.LayerNorm.weight', 'cls.predictions.transform.dense.weight', 'cls.predictions.decoder.weight']\n",
      "- This IS expected if you are initializing BertModel from the checkpoint of a model trained on another task or with another architecture (e.g. initializing a BertForSequenceClassification model from a BertForPreTraining model).\n",
      "- This IS NOT expected if you are initializing BertModel from the checkpoint of a model that you expect to be exactly identical (initializing a BertForSequenceClassification model from a BertForSequenceClassification model).\n",
      "/opt/homebrew/Caskroom/miniforge/base/envs/BioSyn/lib/python3.8/site-packages/transformers/optimization.py:306: FutureWarning: This implementation of AdamW is deprecated and will be removed in a future version. Use the PyTorch implementation torch.optim.AdamW instead, or set `no_deprecation_warning=True` to disable this warning\n",
      "  warnings.warn(\n",
      "07/15/2022 01:31:47 PM: [ UMLS data loaded ]\n",
      "100%|██████████| 179/179 [00:00<00:00, 1702449.92it/s]\n",
      "07/15/2022 01:31:47 PM: [ Dictionary loaded ]\n",
      "100%|██████████| 2/2 [00:00<00:00, 2207.53it/s]\n",
      "100%|██████████| 2/2 [00:00<00:00, 7781.64it/s]\n",
      "07/15/2022 01:31:47 PM: [ Mentions loaded ]\n"
     ]
    }
   ],
   "source": [
    "# Initialize\n",
    "start = time.time()\n",
    "LOGGER = utils.init_logging()\n",
    "LOGGER.info(args)\n",
    "utils.init_seed(42)\n",
    "bert = AutoModel.from_pretrained(args.model_name_or_path).to(args.device)\n",
    "tokenizer = AutoTokenizer.from_pretrained(args.model_name_or_path)\n",
    "\n",
    "# Set loss function\n",
    "if args.loss_fn=='nll':\n",
    "    loss_fn = utils.marginal_nll\n",
    "elif args.loss_fn=='mse':\n",
    "    loss_fn = utils.mse_loss\n",
    "elif args.loss_fn=='mse5':\n",
    "    loss_fn = utils.mse5_loss\n",
    "else:\n",
    "    raise Exception(f\"Invalid loss function {args.loss_fn}\")\n",
    "    \n",
    "# Build model\n",
    "model = RerankNet(encoder=bert, tokenizer=tokenizer, device=args.device)\n",
    "\n",
    "# Load UMLS data\n",
    "umls = Umls('umls/processed')\n",
    "LOGGER.info(\"UMLS data loaded\")\n",
    "\n",
    "# Load dictionary\n",
    "dictionary = utils.load_dictionary(args.dictionary_path)\n",
    "LOGGER.info(\"Dictionary loaded\")\n",
    "\n",
    "# Load training data\n",
    "train_mentions = utils.load_mentions(args.train_dir)\n",
    "train_set = CandidateDataset(train_mentions, dictionary, model.tokenizer, args.max_length, args.candidates, args.similarity_type, umls) \n",
    "train_loader = torch.utils.data.DataLoader(train_set, batch_size=args.batch_size, shuffle=True)\n",
    "\n",
    "# Load dev data for validation\n",
    "dev_mentions = utils.load_mentions(args.dev_dir)\n",
    "LOGGER.info(\"Mentions loaded\")"
   ]
  },
  {
   "cell_type": "code",
   "execution_count": 9,
   "metadata": {},
   "outputs": [
    {
     "name": "stderr",
     "output_type": "stream",
     "text": [
      "Bulk embedding...: 100%|██████████| 1/1 [00:03<00:00,  3.39s/it]\n",
      "Bulk embedding...: 100%|██████████| 1/1 [00:00<00:00,  1.86it/s]\n",
      "07/15/2022 01:33:17 PM: [ Epoch 0: max possible acc@1 = 0.875 ]\n",
      "Training epoch 0: 100%|██████████| 1/1 [00:08<00:00,  8.34s/it]\n",
      "07/15/2022 01:33:25 PM: [ Epoch 0: loss/train_per_epoch=0.0/0 ]\n",
      "Bulk embedding...: 100%|██████████| 1/1 [00:07<00:00,  7.14s/it]\n",
      "Bulk embedding...: 100%|██████████| 1/1 [00:01<00:00,  1.24s/it]\n",
      "07/15/2022 01:33:34 PM: [ Epoch 0: acc@1=0.875 ]\n",
      "07/15/2022 01:33:34 PM: [ Epoch 0: acc@5=0.875 ]\n",
      "07/15/2022 01:33:34 PM: [ Epoch 0: umls_similarity=0.9166666666666666 ]\n"
     ]
    }
   ],
   "source": [
    "############## Candidate Generation ##############\n",
    "epoch = 0\n",
    "train_candidate_idxs = utils.get_topk_candidates(\n",
    "        dict_names=list(dictionary[:,0]), \n",
    "        mentions=train_mentions, \n",
    "        tokenizer=model.tokenizer, \n",
    "        encoder=model.encoder, \n",
    "        max_length=args.max_length, \n",
    "        device=args.device, \n",
    "        topk=args.candidates)\n",
    "                        \n",
    "# Add candidates to training dataset\n",
    "train_set.set_candidate_idxs(train_candidate_idxs)\n",
    "LOGGER.info('Epoch {}: max possible acc@1 = {}'.format(epoch,train_set.max_acc1()))\n",
    "\n",
    "###################### Train ######################\n",
    "# Train encoder to properly rank candidates\n",
    "train_loss = 0\n",
    "train_steps = 0\n",
    "model.train()\n",
    "for i, data in tqdm(enumerate(train_loader), total=len(train_loader), desc=f'Training epoch {epoch}'):\n",
    "        model.optimizer.zero_grad()\n",
    "        batch_x, batch_y = data\n",
    "        batch_pred = model(batch_x)\n",
    "        loss = loss_fn(batch_pred, batch_y.to(args.device))\n",
    "        loss.backward()\n",
    "        model.optimizer.step()\n",
    "        train_loss += loss.item()\n",
    "        train_steps += 1\n",
    "\n",
    "train_loss = train_loss / (train_steps + 1e-9)\n",
    "LOGGER.info('Epoch {}: loss/train_per_epoch={}/{}'.format(epoch,train_loss,epoch))\n",
    "\n",
    "#################### Evaluate ####################\n",
    "# Get candidates on dev dataset\n",
    "dev_candidate_idxs = utils.get_topk_candidates(\n",
    "        dict_names=list(dictionary[:,0]), \n",
    "        mentions=dev_mentions, \n",
    "        tokenizer=model.tokenizer, \n",
    "        encoder=model.encoder, \n",
    "        max_length=args.max_length, \n",
    "        device=args.device, \n",
    "        topk=5) # Only need top five candidates to evaluate performance\n",
    "\n",
    "# Log performance on dev after each epoch\n",
    "results = utils.evaluate(dev_mentions, dictionary[dev_candidate_idxs], umls)\n",
    "if 'acc1' in results: LOGGER.info(\"Epoch {}: acc@1={}\".format(epoch,results['acc1']))\n",
    "if 'acc5' in results: LOGGER.info(\"Epoch {}: acc@5={}\".format(epoch,results['acc5']))\n",
    "if 'umls_similarity' in results: LOGGER.info(\"Epoch {}: umls_similarity={}\".format(epoch,results['umls_similarity']))"
   ]
  },
  {
   "cell_type": "code",
   "execution_count": 397,
   "metadata": {},
   "outputs": [
    {
     "name": "stderr",
     "output_type": "stream",
     "text": [
      "/Users/evan/code/thesis/src/utils.py:79: SyntaxWarning: assertion is always true, perhaps remove parentheses?\n",
      "  # Check all annotations were fixed\n"
     ]
    },
    {
     "data": {
      "text/plain": [
       "<module 'src.utils' from '/Users/evan/code/thesis/src/utils.py'>"
      ]
     },
     "execution_count": 397,
     "metadata": {},
     "output_type": "execute_result"
    }
   ],
   "source": [
    "import src.utils as utils\n",
    "reload(utils)"
   ]
  },
  {
   "cell_type": "code",
   "execution_count": 8,
   "metadata": {},
   "outputs": [
    {
     "data": {
      "text/plain": [
       "tensor(0.1250, device='mps:0', grad_fn=<MseLossBackward0>)"
      ]
     },
     "execution_count": 8,
     "metadata": {},
     "output_type": "execute_result"
    }
   ],
   "source": [
    "def mse_loss(score, target):\n",
    "    \"Calculates MSE loss between max similarity of the candidates and similarity of top prediction\"\n",
    "    # Find similarity of the top prediction\n",
    "    pred_ixs = score.argmax(dim=1)\n",
    "    predicted_similarity = torch.gather(target, 1, pred_ixs.unsqueeze_(dim=1)).squeeze().requires_grad_()\n",
    "\n",
    "    # Find max similarity for each mention of the available candidates\n",
    "    expected_similarity = torch.max(target, dim=1).values\n",
    "    return torch.nn.functional.mse_loss(expected_similarity, predicted_similarity)\n",
    "\n",
    "mse_loss(batch_pred, batch_y.to(args.device))"
   ]
  }
 ],
 "metadata": {
  "kernelspec": {
   "display_name": "Python 3.8.12 ('BioSyn')",
   "language": "python",
   "name": "python3"
  },
  "language_info": {
   "codemirror_mode": {
    "name": "ipython",
    "version": 3
   },
   "file_extension": ".py",
   "mimetype": "text/x-python",
   "name": "python",
   "nbconvert_exporter": "python",
   "pygments_lexer": "ipython3",
   "version": "3.8.12"
  },
  "orig_nbformat": 4,
  "vscode": {
   "interpreter": {
    "hash": "7f1988f44dc5f1726269da6d50ac6138ff653bd316e3f250065b36ec61053392"
   }
  }
 },
 "nbformat": 4,
 "nbformat_minor": 2
}
