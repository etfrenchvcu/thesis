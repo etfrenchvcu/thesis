{
 "cells": [
  {
   "cell_type": "code",
   "execution_count": 1,
   "metadata": {},
   "outputs": [
    {
     "name": "stderr",
     "output_type": "stream",
     "text": [
      "c:\\Users\\etfrench\\Anaconda3\\envs\\UMLS\\lib\\site-packages\\tqdm\\auto.py:22: TqdmWarning: IProgress not found. Please update jupyter and ipywidgets. See https://ipywidgets.readthedocs.io/en/stable/user_install.html\n",
      "  from .autonotebook import tqdm as notebook_tqdm\n",
      "c:\\Users\\etfrench\\code\\thesis\\src\\utils.py:80: SyntaxWarning: assertion is always true, perhaps remove parentheses?\n",
      "  assert(sum([len(ixs)!=2 for ixs in token_ixs]), f\"Offsets not lining up for mention in {file}\")\n"
     ]
    }
   ],
   "source": [
    "import json\n",
    "class obj:\n",
    "    # constructor\n",
    "    def __init__(self, dict1):\n",
    "        self.__dict__.update(dict1)\n",
    "args = {\n",
    "    \"candidates\": 20,\n",
    "    \"device\": 'cpu',\n",
    "    \"dev_dir\":'datasets/development/processed_dev',\n",
    "    \"train_dir\":'datasets/development/processed_dev',\n",
    "    \"dictionary_path\": 'datasets/development/dev_dictionary.txt',\n",
    "    \"max_length\": 25,\n",
    "    \"model_name_or_path\": 'dmis-lab/biobert-base-cased-v1.1',\n",
    "    \"batch_size\": 16,\n",
    "    \"epochs\": 1,\n",
    "    \"loss_fn\": \"nll\",\n",
    "    \"contextualized\": False,\n",
    "    \"similarity_type\": 'binary'\n",
    "}\n",
    "args = json.loads(json.dumps(args), object_hook=obj)\n",
    "vars(args)\n",
    "\n",
    "from importlib import reload\n",
    "\n",
    "import numpy as np\n",
    "import time\n",
    "import torch\n",
    "from tqdm import tqdm\n",
    "from transformers import (\n",
    "    AutoModel,\n",
    "    AutoTokenizer\n",
    ")\n",
    "\n",
    "# Local modules\n",
    "from src.candidateDataset import CandidateDataset\n",
    "from src.rerankNet import RerankNet\n",
    "from src.umls import Umls\n",
    "import src.utils as utils"
   ]
  },
  {
   "cell_type": "code",
   "execution_count": 2,
   "metadata": {},
   "outputs": [
    {
     "name": "stderr",
     "output_type": "stream",
     "text": [
      "07/15/2022 09:40:28 AM: [ <__main__.obj object at 0x0000023EEAB1E1F0> ]\n",
      "Some weights of the model checkpoint at dmis-lab/biobert-base-cased-v1.1 were not used when initializing BertModel: ['cls.seq_relationship.bias', 'cls.predictions.transform.LayerNorm.weight', 'cls.predictions.transform.dense.weight', 'cls.predictions.transform.dense.bias', 'cls.predictions.bias', 'cls.predictions.decoder.bias', 'cls.seq_relationship.weight', 'cls.predictions.decoder.weight', 'cls.predictions.transform.LayerNorm.bias']\n",
      "- This IS expected if you are initializing BertModel from the checkpoint of a model trained on another task or with another architecture (e.g. initializing a BertForSequenceClassification model from a BertForPreTraining model).\n",
      "- This IS NOT expected if you are initializing BertModel from the checkpoint of a model that you expect to be exactly identical (initializing a BertForSequenceClassification model from a BertForSequenceClassification model).\n",
      "c:\\Users\\etfrench\\Anaconda3\\envs\\UMLS\\lib\\site-packages\\transformers\\optimization.py:306: FutureWarning: This implementation of AdamW is deprecated and will be removed in a future version. Use the PyTorch implementation torch.optim.AdamW instead, or set `no_deprecation_warning=True` to disable this warning\n",
      "  warnings.warn(\n",
      "07/15/2022 09:40:35 AM: [ UMLS data loaded ]\n",
      "100%|██████████| 179/179 [00:00<00:00, 179569.58it/s]\n",
      "07/15/2022 09:40:35 AM: [ Dictionary loaded ]\n",
      "100%|██████████| 2/2 [00:00<00:00, 167.08it/s]\n",
      "100%|██████████| 2/2 [00:00<00:00, 401.14it/s]\n",
      "07/15/2022 09:40:35 AM: [ Mentions loaded ]\n"
     ]
    }
   ],
   "source": [
    "LOGGER = utils.init_logging()\n",
    "LOGGER.info(args)\n",
    "utils.init_seed(42)\n",
    "bert = AutoModel.from_pretrained(args.model_name_or_path).to(args.device)\n",
    "tokenizer = AutoTokenizer.from_pretrained(args.model_name_or_path)\n",
    "\n",
    "# Set loss function\n",
    "if args.loss_fn=='nll':\n",
    "    loss_fn = utils.marginal_nll\n",
    "elif args.loss_fn=='bce':\n",
    "    loss_fn = utils.marginal_nll\n",
    "else:\n",
    "    raise Exception(f\"Invalid loss function {args.loss_fn}\")\n",
    "    \n",
    "# Build model\n",
    "model = RerankNet(bert, device = args.device)\n",
    "\n",
    "# Load UMLS data\n",
    "umls = Umls('umls/processed')\n",
    "LOGGER.info(\"UMLS data loaded\")\n",
    "\n",
    "# Load dictionary\n",
    "dictionary = utils.load_dictionary(args.dictionary_path)\n",
    "LOGGER.info(\"Dictionary loaded\")\n",
    "\n",
    "# Load training data\n",
    "train_mentions = utils.load_mentions(args.train_dir)\n",
    "train_set = CandidateDataset(train_mentions, dictionary, tokenizer, args.max_length, args.candidates, args.similarity_type, umls) \n",
    "train_loader = torch.utils.data.DataLoader(train_set, batch_size=args.batch_size, shuffle=True)\n",
    "\n",
    "# Load dev data for validation\n",
    "dev_mentions = utils.load_mentions(args.dev_dir)\n",
    "LOGGER.info(\"Mentions loaded\")"
   ]
  },
  {
   "cell_type": "code",
   "execution_count": 3,
   "metadata": {},
   "outputs": [
    {
     "name": "stderr",
     "output_type": "stream",
     "text": [
      "Bulk embedding...: 100%|██████████| 1/1 [00:01<00:00,  1.39s/it]\n",
      "Bulk embedding...: 100%|██████████| 1/1 [00:00<00:00, 11.63it/s]\n",
      "Training epoch 0: 100%|██████████| 1/1 [00:02<00:00,  2.25s/it]\n",
      "07/15/2022 09:40:55 AM: [ Epoch 0: loss/train_per_epoch=0.563833176525858/0 ]\n",
      "Bulk embedding...: 100%|██████████| 1/1 [00:01<00:00,  1.31s/it]\n",
      "Bulk embedding...: 100%|██████████| 1/1 [00:00<00:00, 12.67it/s]\n",
      "07/15/2022 09:40:57 AM: [ Epoch 0: acc@1=0.875 ]\n",
      "07/15/2022 09:40:57 AM: [ Epoch 0: acc@5=0.875 ]\n",
      "07/15/2022 09:40:57 AM: [ Epoch 0: umls_similarity=0.9166666666666666 ]\n"
     ]
    }
   ],
   "source": [
    "# Training loop\n",
    "for epoch in range(args.epochs):\n",
    "        ############## Candidate Generation ##############\n",
    "        train_candidate_idxs = utils.get_topk_candidates(\n",
    "                dict_names=list(dictionary[:,0]), \n",
    "                mentions=train_mentions, \n",
    "                tokenizer=tokenizer, \n",
    "                encoder=bert, \n",
    "                max_length=args.max_length, \n",
    "                device=args.device, \n",
    "                topk=args.candidates)\n",
    "                                \n",
    "        # Add candidates to training dataset\n",
    "        train_set.set_candidate_idxs(train_candidate_idxs)\n",
    "\n",
    "        ###################### Train ######################\n",
    "        # Train encoder to properly rank candidates\n",
    "        train_loss = 0\n",
    "        train_steps = 0\n",
    "        model.train()\n",
    "        for i, data in tqdm(enumerate(train_loader), total=len(train_loader), desc=f'Training epoch {epoch}'):\n",
    "                model.optimizer.zero_grad()\n",
    "                batch_x, batch_y = data\n",
    "                batch_pred = model(batch_x)\n",
    "                loss = loss_fn(batch_pred, batch_y.to(args.device))\n",
    "                # loss.backward() #TODO: Not working on the mac\n",
    "                model.optimizer.step()\n",
    "                train_loss += loss.item()\n",
    "                train_steps += 1\n",
    "\n",
    "        train_loss = train_loss / (train_steps + 1e-9)\n",
    "        LOGGER.info('Epoch {}: loss/train_per_epoch={}/{}'.format(epoch,train_loss,epoch))\n",
    "\n",
    "        #################### Evaluate ####################\n",
    "        # Get candidates on dev dataset\n",
    "        dev_candidate_idxs = utils.get_topk_candidates(\n",
    "                dict_names=list(dictionary[:,0]), \n",
    "                mentions=dev_mentions, \n",
    "                tokenizer=tokenizer, \n",
    "                encoder=bert, \n",
    "                max_length=args.max_length, \n",
    "                device=args.device, \n",
    "                topk=5) # Only need top five candidates to evaluate performance\n",
    "\n",
    "        # Log performance on dev after each epoch\n",
    "        results = utils.evaluate(dev_mentions, dictionary[dev_candidate_idxs], umls)\n",
    "        if 'acc1' in results: LOGGER.info(\"Epoch {}: acc@1={}\".format(epoch,results['acc1']))\n",
    "        if 'acc5' in results: LOGGER.info(\"Epoch {}: acc@5={}\".format(epoch,results['acc5']))\n",
    "        if 'umls_similarity' in results: LOGGER.info(\"Epoch {}: umls_similarity={}\".format(epoch,results['umls_similarity']))"
   ]
  },
  {
   "cell_type": "code",
   "execution_count": 397,
   "metadata": {},
   "outputs": [
    {
     "name": "stderr",
     "output_type": "stream",
     "text": [
      "/Users/evan/code/thesis/src/utils.py:79: SyntaxWarning: assertion is always true, perhaps remove parentheses?\n",
      "  # Check all annotations were fixed\n"
     ]
    },
    {
     "data": {
      "text/plain": [
       "<module 'src.utils' from '/Users/evan/code/thesis/src/utils.py'>"
      ]
     },
     "execution_count": 397,
     "metadata": {},
     "output_type": "execute_result"
    }
   ],
   "source": [
    "import src.utils as utils\n",
    "reload(utils)"
   ]
  },
  {
   "cell_type": "code",
   "execution_count": 119,
   "metadata": {},
   "outputs": [
    {
     "data": {
      "text/plain": [
       "tensor(0.3750, grad_fn=<MseLossBackward0>)"
      ]
     },
     "execution_count": 119,
     "metadata": {},
     "output_type": "execute_result"
    }
   ],
   "source": [
    "def mse5_loss(score, target):\n",
    "    \"Calculates MSE loss between max similarity for top 5 candidates and similarity of top 5 predictions\"\n",
    "    rows, _ = score.shape\n",
    "\n",
    "    # Get similarity scores for top 5 predictions\n",
    "    top5_pred_ixs = utils.retrieve_candidates(score.detach().cpu(), topk=5)\n",
    "    predicted = torch.stack([sum(target[i][top5_pred_ixs[i]]) for i in range(rows)]).requires_grad_()\n",
    "\n",
    "    # Get 5 highest possible similarity scores of the available candidates\n",
    "    top5_target_ixs = utils.retrieve_candidates(target, topk=5)\n",
    "    expected = torch.stack([sum(target[i][top5_target_ixs[i]]) for i in range(rows)])\n",
    "    \n",
    "    return torch.nn.functional.mse_loss(expected, predicted)\n",
    "\n",
    "mse5_loss(batch_pred, batch_y)"
   ]
  },
  {
   "cell_type": "code",
   "execution_count": 131,
   "metadata": {},
   "outputs": [
    {
     "data": {
      "text/plain": [
       "tensor(0.2500)"
      ]
     },
     "execution_count": 131,
     "metadata": {},
     "output_type": "execute_result"
    }
   ],
   "source": [
    "def mse_loss(score, target):\n",
    "    \"Calculates MSE loss between max similarity of the candidates and similarity of top prediction\"\n",
    "    # Find similarity of the top prediction\n",
    "    pred_ixs = score.argmax(dim=1)\n",
    "    predicted_similarity = torch.gather(target, 1, pred_ixs.unsqueeze_(dim=1)).squeeze()\n",
    "\n",
    "    # Find max similarity for each mention of the available candidates\n",
    "    expected_similarity = torch.max(target, dim=1).values\n",
    "    return torch.nn.functional.mse_loss(expected_similarity, predicted_similarity)\n",
    "    \n",
    "mse_loss(batch_pred, batch_y)"
   ]
  },
  {
   "cell_type": "code",
   "execution_count": 125,
   "metadata": {},
   "outputs": [
    {
     "data": {
      "text/plain": [
       "tensor(0.2500)"
      ]
     },
     "execution_count": 125,
     "metadata": {},
     "output_type": "execute_result"
    }
   ],
   "source": [
    "torch.nn.functional.mse_loss(expected, predicted)"
   ]
  },
  {
   "cell_type": "code",
   "execution_count": 40,
   "metadata": {},
   "outputs": [
    {
     "data": {
      "text/plain": [
       "tensor([[0., 0., 1., 1., 0.],\n",
       "        [0., 1., 1., 0., 0.],\n",
       "        [1., 0., 0., 0., 0.],\n",
       "        [1., 0., 0., 0., 0.],\n",
       "        [1., 0., 0., 0., 0.],\n",
       "        [1., 1., 0., 0., 0.],\n",
       "        [1., 1., 1., 1., 0.],\n",
       "        [0., 0., 0., 0., 0.]], requires_grad=True)"
      ]
     },
     "execution_count": 40,
     "metadata": {},
     "output_type": "execute_result"
    }
   ],
   "source": [
    "predicted_ixs = utils.retrieve_candidates(batch_pred.detach().cpu(), topk=5)\n",
    "predicted = torch.stack([batch_y[i][predicted_ixs[i]] for i in range(batch_pred.shape[0])]).requires_grad_()\n",
    "predicted"
   ]
  },
  {
   "cell_type": "code",
   "execution_count": 41,
   "metadata": {},
   "outputs": [
    {
     "data": {
      "text/plain": [
       "tensor(17.5000, grad_fn=<BinaryCrossEntropyBackward0>)"
      ]
     },
     "execution_count": 41,
     "metadata": {},
     "output_type": "execute_result"
    }
   ],
   "source": [
    "torch.nn.functional.binary_cross_entropy(predicted, expected)"
   ]
  },
  {
   "cell_type": "code",
   "execution_count": 62,
   "metadata": {},
   "outputs": [
    {
     "data": {
      "text/plain": [
       "(tensor([[ 0.1844, -0.1064],\n",
       "         [ 0.1777,  1.3448],\n",
       "         [-0.6941, -1.8600]], requires_grad=True),\n",
       " tensor([[0.5460, 0.4734],\n",
       "         [0.5443, 0.7933],\n",
       "         [0.3331, 0.1347]], grad_fn=<SigmoidBackward0>),\n",
       " tensor([[0.7057, 0.1659],\n",
       "         [0.3779, 0.1089],\n",
       "         [0.0501, 0.6333]]))"
      ]
     },
     "execution_count": 62,
     "metadata": {},
     "output_type": "execute_result"
    }
   ],
   "source": [
    "input, torch.sigmoid(input), target"
   ]
  }
 ],
 "metadata": {
  "kernelspec": {
   "display_name": "Python 3.8.12 ('BioSyn')",
   "language": "python",
   "name": "python3"
  },
  "language_info": {
   "codemirror_mode": {
    "name": "ipython",
    "version": 3
   },
   "file_extension": ".py",
   "mimetype": "text/x-python",
   "name": "python",
   "nbconvert_exporter": "python",
   "pygments_lexer": "ipython3",
   "version": "3.8.12"
  },
  "orig_nbformat": 4,
  "vscode": {
   "interpreter": {
    "hash": "7f1988f44dc5f1726269da6d50ac6138ff653bd316e3f250065b36ec61053392"
   }
  }
 },
 "nbformat": 4,
 "nbformat_minor": 2
}
