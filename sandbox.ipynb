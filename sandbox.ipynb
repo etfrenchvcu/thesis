{
 "cells": [
  {
   "cell_type": "code",
   "execution_count": 3,
   "metadata": {},
   "outputs": [
    {
     "data": {
      "text/plain": [
       "{'candidates': 20,\n",
       " 'device': 'mps',\n",
       " 'path': 'datasets/development',\n",
       " 'max_length': 25,\n",
       " 'batch_size': 16,\n",
       " 'epochs': 1,\n",
       " 'loss_fn': 'nll',\n",
       " 'contextualized': False,\n",
       " 'similarity_type': 'binary'}"
      ]
     },
     "execution_count": 3,
     "metadata": {},
     "output_type": "execute_result"
    }
   ],
   "source": [
    "import json\n",
    "class obj:\n",
    "    # constructor\n",
    "    def __init__(self, dict1):\n",
    "        self.__dict__.update(dict1)\n",
    "args = {\n",
    "    \"candidates\": 20,\n",
    "    \"device\": 'mps',\n",
    "    \"path\": 'datasets/development',\n",
    "    \"max_length\": 25,\n",
    "    \"batch_size\": 16,\n",
    "    \"epochs\": 1,\n",
    "    \"loss_fn\": \"nll\",\n",
    "    \"contextualized\": False,\n",
    "    \"similarity_type\": 'binary'\n",
    "}\n",
    "args = json.loads(json.dumps(args), object_hook=obj)\n",
    "vars(args)"
   ]
  },
  {
   "cell_type": "code",
   "execution_count": 4,
   "metadata": {},
   "outputs": [
    {
     "name": "stderr",
     "output_type": "stream",
     "text": [
      "Some weights of the model checkpoint at dmis-lab/biobert-base-cased-v1.1 were not used when initializing BertModel: ['cls.predictions.transform.LayerNorm.bias', 'cls.predictions.transform.LayerNorm.weight', 'cls.predictions.decoder.weight', 'cls.predictions.transform.dense.bias', 'cls.seq_relationship.weight', 'cls.predictions.transform.dense.weight', 'cls.seq_relationship.bias', 'cls.predictions.bias', 'cls.predictions.decoder.bias']\n",
      "- This IS expected if you are initializing BertModel from the checkpoint of a model trained on another task or with another architecture (e.g. initializing a BertForSequenceClassification model from a BertForPreTraining model).\n",
      "- This IS NOT expected if you are initializing BertModel from the checkpoint of a model that you expect to be exactly identical (initializing a BertForSequenceClassification model from a BertForSequenceClassification model).\n",
      "/opt/homebrew/Caskroom/miniforge/base/envs/BioSyn/lib/python3.8/site-packages/transformers/optimization.py:306: FutureWarning: This implementation of AdamW is deprecated and will be removed in a future version. Use the PyTorch implementation torch.optim.AdamW instead, or set `no_deprecation_warning=True` to disable this warning\n",
      "  warnings.warn(\n",
      "100%|██████████| 179/179 [00:00<00:00, 1171264.30it/s]\n",
      "07/14/2022 12:33:07 PM: [ Dictionary loaded ]\n",
      "100%|██████████| 2/2 [00:00<00:00, 3366.22it/s]\n",
      "100%|██████████| 2/2 [00:00<00:00, 1560.09it/s]\n",
      "07/14/2022 12:33:07 PM: [ Mentions loaded ]\n"
     ]
    }
   ],
   "source": [
    "from importlib import reload\n",
    "\n",
    "import numpy as np\n",
    "import time\n",
    "import torch\n",
    "from tqdm import tqdm\n",
    "from transformers import (\n",
    "    AutoModel,\n",
    "    AutoTokenizer\n",
    ")\n",
    "\n",
    "# Local modules\n",
    "from src.candidateDataset import CandidateDataset\n",
    "from src.rerankNet import RerankNet\n",
    "from src.umls import Umls\n",
    "import src.utils as utils\n",
    "\n",
    "#TODO: Add additional loss functions\n",
    "loss_fn = utils.marginal_nll\n",
    "\n",
    "# Initialize\n",
    "LOGGER = utils.init_logging()\n",
    "utils.init_seed(42)\n",
    "model_name_or_path = 'dmis-lab/biobert-base-cased-v1.1'\n",
    "bert = AutoModel.from_pretrained(model_name_or_path).to(args.device)\n",
    "tokenizer = AutoTokenizer.from_pretrained(model_name_or_path)\n",
    "\n",
    "# Build model\n",
    "model = RerankNet(bert, \n",
    "                  device = args.device, \n",
    "                  loss_fn='nll')\n",
    "\n",
    "# Load UMLS data\n",
    "umls = Umls('umls/processed')\n",
    "\n",
    "# Load dictionary\n",
    "dictionary = utils.load_dictionary(args.path+'/dev_dictionary.txt')\n",
    "LOGGER.info(\"Dictionary loaded\")\n",
    "\n",
    "# Load training data\n",
    "train_mentions = utils.load_mentions(args.path+'/processed_dev')\n",
    "train_set = CandidateDataset(train_mentions, dictionary, tokenizer, args.max_length, args.candidates, args.similarity_type, umls) \n",
    "train_loader = torch.utils.data.DataLoader(train_set, batch_size=args.batch_size, shuffle=True)\n",
    "\n",
    "dev_mentions = utils.load_mentions(args.path+'/processed_dev')\n",
    "dev_set = CandidateDataset(dev_mentions, dictionary, tokenizer, args.max_length, args.candidates, args.similarity_type, umls) \n",
    "dev_loader = torch.utils.data.DataLoader(dev_set, batch_size=args.batch_size, shuffle=True)\n",
    "LOGGER.info(\"Mentions loaded\")"
   ]
  },
  {
   "cell_type": "code",
   "execution_count": 3,
   "metadata": {},
   "outputs": [
    {
     "name": "stderr",
     "output_type": "stream",
     "text": [
      "07/14/2022 10:58:18 AM: [ train! ]\n",
      "Bulk embedding...: 100%|██████████| 1/1 [00:04<00:00,  4.31s/it]\n",
      "Bulk embedding...: 100%|██████████| 1/1 [00:01<00:00,  1.73s/it]\n",
      "Training epoch 0:   0%|          | 0/1 [00:10<?, ?it/s]\n"
     ]
    },
    {
     "ename": "NotImplementedError",
     "evalue": "The operator 'aten::index.Tensor' is not current implemented for the MPS device. If you want this op to be added in priority during the prototype phase of this feature, please comment on https://github.com/pytorch/pytorch/issues/77764. As a temporary fix, you can set the environment variable `PYTORCH_ENABLE_MPS_FALLBACK=1` to use the CPU as a fallback for this op. WARNING: this will be slower than running natively on MPS.",
     "output_type": "error",
     "traceback": [
      "\u001b[0;31m---------------------------------------------------------------------------\u001b[0m",
      "\u001b[0;31mNotImplementedError\u001b[0m                       Traceback (most recent call last)",
      "\u001b[1;32m/Users/evan/code/thesis/sandbox.ipynb Cell 3'\u001b[0m in \u001b[0;36m<cell line: 4>\u001b[0;34m()\u001b[0m\n\u001b[1;32m     <a href='vscode-notebook-cell:/Users/evan/code/thesis/sandbox.ipynb#ch0000009?line=24'>25</a>\u001b[0m batch_x, batch_y \u001b[39m=\u001b[39m data\n\u001b[1;32m     <a href='vscode-notebook-cell:/Users/evan/code/thesis/sandbox.ipynb#ch0000009?line=25'>26</a>\u001b[0m batch_pred \u001b[39m=\u001b[39m model(batch_x)\n\u001b[0;32m---> <a href='vscode-notebook-cell:/Users/evan/code/thesis/sandbox.ipynb#ch0000009?line=26'>27</a>\u001b[0m loss \u001b[39m=\u001b[39m loss_fn(batch_pred, batch_y\u001b[39m.\u001b[39;49mto(args\u001b[39m.\u001b[39;49mdevice))\n\u001b[1;32m     <a href='vscode-notebook-cell:/Users/evan/code/thesis/sandbox.ipynb#ch0000009?line=27'>28</a>\u001b[0m \u001b[39m# loss.backward() #TODO: Not working on the mac\u001b[39;00m\n\u001b[1;32m     <a href='vscode-notebook-cell:/Users/evan/code/thesis/sandbox.ipynb#ch0000009?line=28'>29</a>\u001b[0m model\u001b[39m.\u001b[39moptimizer\u001b[39m.\u001b[39mstep()\n",
      "File \u001b[0;32m~/code/thesis/src/utils.py:187\u001b[0m, in \u001b[0;36mmarginal_nll\u001b[0;34m(score, target)\u001b[0m\n\u001b[1;32m    185\u001b[0m loss \u001b[39m=\u001b[39m predict \u001b[39m*\u001b[39m target\n\u001b[1;32m    186\u001b[0m loss \u001b[39m=\u001b[39m loss\u001b[39m.\u001b[39msum(dim\u001b[39m=\u001b[39m\u001b[39m-\u001b[39m\u001b[39m1\u001b[39m)                   \u001b[39m# sum all positive scores\u001b[39;00m\n\u001b[0;32m--> 187\u001b[0m loss \u001b[39m=\u001b[39m loss[loss \u001b[39m>\u001b[39;49m \u001b[39m0\u001b[39;49m]                     \u001b[39m# filter sets with at least one positives\u001b[39;00m\n\u001b[1;32m    188\u001b[0m loss \u001b[39m=\u001b[39m torch\u001b[39m.\u001b[39mclamp(loss, \u001b[39mmin\u001b[39m\u001b[39m=\u001b[39m\u001b[39m1e-9\u001b[39m, \u001b[39mmax\u001b[39m\u001b[39m=\u001b[39m\u001b[39m1\u001b[39m) \u001b[39m# for numerical stability\u001b[39;00m\n\u001b[1;32m    189\u001b[0m loss \u001b[39m=\u001b[39m \u001b[39m-\u001b[39mtorch\u001b[39m.\u001b[39mlog(loss)                   \u001b[39m# for negative log likelihood\u001b[39;00m\n",
      "\u001b[0;31mNotImplementedError\u001b[0m: The operator 'aten::index.Tensor' is not current implemented for the MPS device. If you want this op to be added in priority during the prototype phase of this feature, please comment on https://github.com/pytorch/pytorch/issues/77764. As a temporary fix, you can set the environment variable `PYTORCH_ENABLE_MPS_FALLBACK=1` to use the CPU as a fallback for this op. WARNING: this will be slower than running natively on MPS."
     ]
    }
   ],
   "source": [
    "# Begin Training loop\n",
    "LOGGER.info(\"train!\")\n",
    "start = time.time()\n",
    "for epoch in range(args.epochs):\n",
    "    ############## Candidate Generation ##############\n",
    "    train_candidate_idxs = utils.get_topk_candidates(\n",
    "            dict_names=list(dictionary[:,0]), \n",
    "            mentions=train_mentions, \n",
    "            tokenizer=tokenizer, \n",
    "            encoder=bert, \n",
    "            max_length=args.max_length, \n",
    "            device=args.device, \n",
    "            topk=args.candidates)\n",
    "                        \n",
    "    # Add candidates to training dataset\n",
    "    train_set.set_candidate_idxs(train_candidate_idxs)\n",
    "    \n",
    "    ###################### Train ######################\n",
    "    # Train encoder to properly rank candidates\n",
    "    train_loss = 0\n",
    "    train_steps = 0\n",
    "    model.train()\n",
    "    for i, data in tqdm(enumerate(train_loader), total=len(train_loader), desc=f'Training epoch {epoch}'):\n",
    "        model.optimizer.zero_grad()\n",
    "        batch_x, batch_y = data\n",
    "        batch_pred = model(batch_x)\n",
    "        loss = loss_fn(batch_pred, batch_y.to(args.device))\n",
    "        # loss.backward() #TODO: Not working on the mac\n",
    "        model.optimizer.step()\n",
    "        train_loss += loss.item()\n",
    "        train_steps += 1\n",
    "\n",
    "    train_loss = train_loss / (train_steps + 1e-9)\n",
    "    LOGGER.info('Epoch {}: loss/train_per_epoch={}/{}'.format(epoch,train_loss,epoch))\n",
    "    \n",
    "    #################### Evaluate ####################\n",
    "    # Get candidates on dev dataset\n",
    "    dev_candidate_idxs = utils.get_topk_candidates(\n",
    "            dict_names=list(dictionary[:,0]), \n",
    "            mentions=dev_mentions, \n",
    "            tokenizer=tokenizer, \n",
    "            encoder=bert, \n",
    "            max_length=args.max_length, \n",
    "            device=args.device, \n",
    "            topk=5) # Only need top five candidates to evaluate performance\n",
    "    \n",
    "    # Log performance on dev after each epoch\n",
    "    results = utils.evaluate(dev_mentions, dictionary[dev_candidate_idxs], umls)\n",
    "    if 'acc1' in results: LOGGER.info(\"Epoch {}: acc@1={}\".format(epoch,results['acc1']))\n",
    "    if 'acc5' in results: LOGGER.info(\"Epoch {}: acc@5={}\".format(epoch,results['acc5']))\n",
    "    if 'umls_similarity' in results: LOGGER.info(\"Epoch {}: umls_similarity={}\".format(epoch,results['umls_similarity']))\n"
   ]
  },
  {
   "cell_type": "code",
   "execution_count": 397,
   "metadata": {},
   "outputs": [
    {
     "name": "stderr",
     "output_type": "stream",
     "text": [
      "/Users/evan/code/thesis/src/utils.py:79: SyntaxWarning: assertion is always true, perhaps remove parentheses?\n",
      "  # Check all annotations were fixed\n"
     ]
    },
    {
     "data": {
      "text/plain": [
       "<module 'src.utils' from '/Users/evan/code/thesis/src/utils.py'>"
      ]
     },
     "execution_count": 397,
     "metadata": {},
     "output_type": "execute_result"
    }
   ],
   "source": [
    "import src.utils as utils\n",
    "reload(utils)"
   ]
  },
  {
   "cell_type": "code",
   "execution_count": 398,
   "metadata": {},
   "outputs": [
    {
     "name": "stderr",
     "output_type": "stream",
     "text": [
      "100%|██████████| 40/40 [00:00<00:00, 4524.48it/s]\n",
      "Bulk embedding contextualized...:   5%|▌         | 2/40 [00:26<09:01, 14.24s/it]"
     ]
    },
    {
     "name": "stdout",
     "output_type": "stream",
     "text": [
      "Bad annotation in 0198\n",
      "154 tensor([21947])\n"
     ]
    },
    {
     "name": "stderr",
     "output_type": "stream",
     "text": [
      "Bulk embedding contextualized...: 100%|██████████| 40/40 [29:05<00:00, 43.63s/it]   \n"
     ]
    },
    {
     "data": {
      "text/plain": [
       "array([[-0.15507695,  0.06025336, -0.22768542, ..., -0.16558737,\n",
       "         0.19927882,  0.16621587],\n",
       "       [-0.01320879,  0.08289725, -0.12982935, ...,  0.49201033,\n",
       "        -0.26241493, -0.01202229],\n",
       "       [-0.15307908, -0.1627849 , -0.13408834, ...,  0.20175664,\n",
       "        -0.19037403, -0.09205182],\n",
       "       ...,\n",
       "       [ 0.07421985, -0.19934276,  0.7217341 , ...,  0.38563707,\n",
       "        -0.3801183 ,  0.42218462],\n",
       "       [ 0.01618759, -0.21299045, -0.23948702, ...,  0.46053863,\n",
       "         0.15869279,  0.48101687],\n",
       "       [ 0.08568915,  0.19834511, -0.04924138, ...,  0.17086448,\n",
       "        -0.00849999, -0.03946758]], dtype=float32)"
      ]
     },
     "execution_count": 398,
     "metadata": {},
     "output_type": "execute_result"
    }
   ],
   "source": [
    "doc_dir='datasets/n2c2/processed_test'\n",
    "test_mentions = utils.load_mentions(doc_dir)\n",
    "utils.bulk_embed_contextualized(test_mentions, bert, tokenizer, doc_dir, max_length=300, device='mps', show_progress=True)"
   ]
  },
  {
   "cell_type": "code",
   "execution_count": 399,
   "metadata": {},
   "outputs": [
    {
     "name": "stderr",
     "output_type": "stream",
     "text": [
      "100%|██████████| 10/10 [00:00<00:00, 776.22it/s]\n",
      "Bulk embedding contextualized...: 100%|██████████| 10/10 [04:04<00:00, 24.46s/it]\n"
     ]
    },
    {
     "data": {
      "text/plain": [
       "array([[ 0.09808334, -0.19211553,  0.4358952 , ...,  0.3686808 ,\n",
       "         0.25733262, -0.30773503],\n",
       "       [-0.1085677 ,  0.24839644,  0.2609251 , ...,  0.20432799,\n",
       "         0.38009298, -0.00730523],\n",
       "       [-0.2050771 ,  0.46604535,  0.47189686, ...,  0.05825787,\n",
       "         0.06764286,  0.06848229],\n",
       "       ...,\n",
       "       [ 0.29949102, -0.07483034,  0.14035282, ...,  0.14551571,\n",
       "         0.7869169 ,  0.2301968 ],\n",
       "       [-0.04362535,  0.40494886, -0.18296073, ...,  0.1948201 ,\n",
       "         0.37076458, -0.00378272],\n",
       "       [ 0.04414786, -0.03230633,  0.33434194, ...,  0.01382919,\n",
       "        -0.04408884, -0.10813165]], dtype=float32)"
      ]
     },
     "execution_count": 399,
     "metadata": {},
     "output_type": "execute_result"
    }
   ],
   "source": [
    "doc_dir='datasets/n2c2/processed_dev'\n",
    "dev_mentions = utils.load_mentions(doc_dir)\n",
    "utils.bulk_embed_contextualized(dev_mentions, bert, tokenizer, doc_dir, max_length=300, device='mps', show_progress=True)"
   ]
  },
  {
   "cell_type": "code",
   "execution_count": 400,
   "metadata": {},
   "outputs": [
    {
     "name": "stderr",
     "output_type": "stream",
     "text": [
      "100%|██████████| 50/50 [00:00<00:00, 2799.75it/s]\n",
      "Bulk embedding contextualized...:   6%|▌         | 3/50 [03:03<58:47, 75.05s/it]"
     ]
    }
   ],
   "source": [
    "doc_dir='datasets/n2c2/processed_train'\n",
    "train_mentions = utils.load_mentions(doc_dir)\n",
    "utils.bulk_embed_contextualized(train_mentions, bert, tokenizer, doc_dir, max_length=300, device='mps', show_progress=True)"
   ]
  },
  {
   "cell_type": "code",
   "execution_count": 391,
   "metadata": {},
   "outputs": [
    {
     "name": "stderr",
     "output_type": "stream",
     "text": [
      "<>:50: SyntaxWarning: assertion is always true, perhaps remove parentheses?\n",
      "<>:50: SyntaxWarning: assertion is always true, perhaps remove parentheses?\n",
      "/var/folders/6h/st9860r51fg6yhm3z45x09900000gp/T/ipykernel_1511/72459415.py:50: SyntaxWarning: assertion is always true, perhaps remove parentheses?\n",
      "  assert(sum([len(ixs)!=2 for ixs in token_ixs]), f\"Offsets not lining up for mention in {file}\")\n"
     ]
    }
   ],
   "source": [
    "\n",
    "def bulk_embed_contextualized(mentions, file, encoder, tokenizer, doc_dir, max_length, device, show_progress=True):\n",
    "    embeddings = []\n",
    "    print(file)\n",
    "    # Tokenize entire document\n",
    "    with open(f'{doc_dir}/{file}.txt') as f:\n",
    "        doc = f.readlines()\n",
    "        doc_tokens = tokenizer(doc, padding=\"max_length\", max_length=max_length, truncation=True, return_tensors=\"pt\", return_offsets_mapping=True)\n",
    "        \n",
    "    # Remove offset_mapping from tokenization for formatting prior to encoding\n",
    "    offsets = doc_tokens.pop('offset_mapping')\n",
    "    \n",
    "    # Find the offset for the end of each sentence\n",
    "    sentence_lengths = [len(line) for line in doc]\n",
    "    \n",
    "    # Update offsets tensor to be document-level token offsets instead of sentence-level\n",
    "    sentence_offsets = np.zeros(len(sentence_lengths))\n",
    "    for i,l in enumerate(sentence_lengths[:-1], start=1):\n",
    "        sentence_offsets[i] = l + sentence_offsets[i-1]\n",
    "    offsets = torch.IntTensor(offsets.numpy() + sentence_offsets[:,None,None])\n",
    "    \n",
    "    # Reshape to remove sentence dimension from tensors\n",
    "    offsets = offsets.reshape(-1,2)\n",
    "    \n",
    "    # Get character-level mention offsets from annotation file\n",
    "    file_mask = mentions[:,3]==file\n",
    "    mention_offsets = mentions[:,2][file_mask]\n",
    "    mention_offsets = torch.IntTensor([list(map(int,l.split('|'))) for l in mention_offsets])\n",
    "    \n",
    "    # Create a padding_mask to ignore padding in tensors\n",
    "    # Padding offsets are formated [###, ###] where ### are equal numbers\n",
    "    padding_mask = (offsets[:,0]!=offsets[:,1]).unsqueeze(1)\n",
    "\n",
    "    # Find the indexes corresponding to mentions in the tokens.input_ids (results of BERT tokenization)\n",
    "    # offsets==offset finds all offsets ([start,end]) matching the start OR end of a given offset\n",
    "    # padding_mask ignores indexes for padding\n",
    "    token_ixs = [((offsets==offset) & padding_mask).nonzero(as_tuple=True)[0] for offset in mention_offsets]\n",
    "    \n",
    "    # If offsets do not match tokens, we have to go in and fix them. Unfortunately, this does happen\n",
    "    if sum([len(ixs)!=2 for ixs in token_ixs]):\n",
    "        LOGGER.info(f\"Bad annotation in {file}\")\n",
    "        for i, ixs in enumerate(token_ixs):\n",
    "            if len(ixs)!=2:\n",
    "                print(i, ixs)\n",
    "                char_start, char_end = mention_offsets[i][0].item(),mention_offsets[i][1].item()\n",
    "                char_start = max(offsets[:,0][offsets[:,0]<=char_start])\n",
    "                char_end = min(offsets[:,1][offsets[:,1]>=char_end])\n",
    "                offset = torch.stack([char_start, char_end])\n",
    "                token_ixs[i] = ((offsets==offset) & padding_mask).nonzero(as_tuple=True)[0]\n",
    "    \n",
    "    # Check all annotations were fixed\n",
    "    assert(sum([len(ixs)!=2 for ixs in token_ixs]), f\"Offsets not lining up for mention in {file}\")\n",
    "\n",
    "    with torch.no_grad():\n",
    "        # Encode each sentence within doc\n",
    "        doc_tokens = doc_tokens.to(device)\n",
    "        outputs = encoder(**doc_tokens)\n",
    "        \n",
    "        # Flatten sentence dimension\n",
    "        embedding = outputs[0].view(-1,768)\n",
    "\n",
    "        # Average embeddings for all tokens in each mention; torch.Size([|mentions|, 768])\n",
    "        doc_embeds = torch.stack([embedding[s.item():e.item()+1].mean(0) for s,e in token_ixs])\n",
    "        \n",
    "        # Append doc embeddings to output\n",
    "        doc_embeds = doc_embeds.cpu().detach().numpy()\n",
    "        embeddings.append(doc_embeds)\n",
    "        \n",
    "        # Print mention tokens to verify correct indexes\n",
    "        # input_ids = doc_tokens['input_ids'].reshape(-1)\n",
    "        # for s,e in token_ixs[:5]:\n",
    "        #     s = s.item()\n",
    "        #     e = e.item()+1\n",
    "        #     print(s,e, tokenizer.convert_ids_to_tokens(input_ids[s:e]))\n",
    "        \n",
    "    # Concatenate embeddings from all mentions\n",
    "    return np.concatenate(embeddings, axis=0)"
   ]
  },
  {
   "cell_type": "code",
   "execution_count": null,
   "metadata": {},
   "outputs": [],
   "source": []
  }
 ],
 "metadata": {
  "kernelspec": {
   "display_name": "Python 3.8.12 ('BioSyn')",
   "language": "python",
   "name": "python3"
  },
  "language_info": {
   "codemirror_mode": {
    "name": "ipython",
    "version": 3
   },
   "file_extension": ".py",
   "mimetype": "text/x-python",
   "name": "python",
   "nbconvert_exporter": "python",
   "pygments_lexer": "ipython3",
   "version": "3.8.12"
  },
  "orig_nbformat": 4,
  "vscode": {
   "interpreter": {
    "hash": "7f1988f44dc5f1726269da6d50ac6138ff653bd316e3f250065b36ec61053392"
   }
  }
 },
 "nbformat": 4,
 "nbformat_minor": 2
}
